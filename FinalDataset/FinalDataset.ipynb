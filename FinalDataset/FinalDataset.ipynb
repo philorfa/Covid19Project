{
  "nbformat": 4,
  "nbformat_minor": 0,
  "metadata": {
    "colab": {
      "name": "FinalDataset.ipynb",
      "provenance": [],
      "machine_shape": "hm"
    },
    "kernelspec": {
      "name": "python3",
      "display_name": "Python 3"
    },
    "accelerator": "GPU"
  },
  "cells": [
    {
      "cell_type": "code",
      "metadata": {
        "id": "9uJT1ZmL8-uG",
        "colab_type": "code",
        "colab": {
          "base_uri": "https://localhost:8080/",
          "height": 381
        },
        "outputId": "8dfe5b33-9892-4b9b-be3c-f173b1f2fff0"
      },
      "source": [
        "gpu_info = !nvidia-smi\n",
        "gpu_info = '\\n'.join(gpu_info)\n",
        "if gpu_info.find('failed') >= 0:\n",
        "  print('Select the Runtime > \"Change runtime type\" menu to enable a GPU accelerator, ')\n",
        "  print('and then re-execute this cell.')\n",
        "else:\n",
        "  print(gpu_info)"
      ],
      "execution_count": 14,
      "outputs": [
        {
          "output_type": "stream",
          "text": [
            "Mon Aug  3 17:20:06 2020       \n",
            "+-----------------------------------------------------------------------------+\n",
            "| NVIDIA-SMI 450.57       Driver Version: 418.67       CUDA Version: 10.1     |\n",
            "|-------------------------------+----------------------+----------------------+\n",
            "| GPU  Name        Persistence-M| Bus-Id        Disp.A | Volatile Uncorr. ECC |\n",
            "| Fan  Temp  Perf  Pwr:Usage/Cap|         Memory-Usage | GPU-Util  Compute M. |\n",
            "|                               |                      |               MIG M. |\n",
            "|===============================+======================+======================|\n",
            "|   0  Tesla P100-PCIE...  Off  | 00000000:00:04.0 Off |                    0 |\n",
            "| N/A   54C    P0    29W / 250W |      0MiB / 16280MiB |      0%      Default |\n",
            "|                               |                      |                 ERR! |\n",
            "+-------------------------------+----------------------+----------------------+\n",
            "                                                                               \n",
            "+-----------------------------------------------------------------------------+\n",
            "| Processes:                                                                  |\n",
            "|  GPU   GI   CI        PID   Type   Process name                  GPU Memory |\n",
            "|        ID   ID                                                   Usage      |\n",
            "|=============================================================================|\n",
            "|  No running processes found                                                 |\n",
            "+-----------------------------------------------------------------------------+\n"
          ],
          "name": "stdout"
        }
      ]
    },
    {
      "cell_type": "code",
      "metadata": {
        "id": "kpy_Hf_HDoYR",
        "colab_type": "code",
        "colab": {}
      },
      "source": [
        "import os\n",
        "from skimage import data, io, filters\n",
        "import numpy as np\n",
        "import tensorflow as tf\n",
        "import cv2\n",
        "from numpy.random import shuffle\n",
        "import random\n",
        "from sklearn.utils import shuffle\n",
        "import matplotlib.pyplot as plt"
      ],
      "execution_count": 15,
      "outputs": []
    },
    {
      "cell_type": "code",
      "metadata": {
        "id": "uDQQJCiG_MJk",
        "colab_type": "code",
        "colab": {}
      },
      "source": [
        "DATA_PATH = '/content/drive/My Drive/NumpyArrayCovidx'\n",
        "GENERATE_SQUARE =64\n",
        "CHANNELS=1"
      ],
      "execution_count": 16,
      "outputs": []
    },
    {
      "cell_type": "code",
      "metadata": {
        "id": "2nC8TkKe_WaA",
        "colab_type": "code",
        "colab": {}
      },
      "source": [
        "def load_covid():\n",
        "  training_binary_path_covid_images = os.path.join(DATA_PATH,\n",
        "          f'covid19_images.npy')\n",
        "  path_label= os.path.join(DATA_PATH,f'covid19_labels.npy')\n",
        "  print(\"Loading covid training pickle...\")\n",
        "  covid19_images = np.load(training_binary_path_covid_images,allow_pickle=True)\n",
        "  covid19_labels = np.load(path_label,allow_pickle=True)\n",
        "  for i in range(len(covid19_images)):\n",
        "    covid19_images[i] = cv2.cvtColor(covid19_images[i], cv2.COLOR_BGR2RGB)\n",
        "    covid19_images[i] = cv2.resize(covid19_images[i], (GENERATE_SQUARE, GENERATE_SQUARE))\n",
        "  training_data=[]\n",
        "  for item in covid19_images:\n",
        "    if(CHANNELS==1):\n",
        "      item = np.mean(item, axis=2)\n",
        "    training_data.append(item)\n",
        "\n",
        "  train_data = np.array(training_data)\n",
        "  #train_data = (train_data - 127.5) / 127.5\n",
        "  return train_data,covid19_labels\n",
        "\n",
        "def load_covidGAN():\n",
        "  training_binary_path_covid_images = os.path.join(DATA_PATH,\n",
        "          f'covid19GAN_images.npy')\n",
        "  print(\"Loading covidGAN training pickle...\")\n",
        "  path_label= os.path.join(DATA_PATH,f'covid19GAN_labels.npy')\n",
        "  covid19GAN = np.load(training_binary_path_covid_images,allow_pickle=True)\n",
        "  covid19GAN_labels = np.load(path_label,allow_pickle=True)\n",
        "  return covid19GAN,covid19GAN_labels\n",
        "\n",
        "def load_covidAug():\n",
        "  training_binary_path_covid_images = os.path.join(DATA_PATH,\n",
        "          f'covid19Augmentation_images.npy')\n",
        "  print(\"Loading covidAug training pickle...\")\n",
        "  path_label= os.path.join(DATA_PATH,f'covid19Augmentation_labels.npy')\n",
        "  covidAug = np.load(training_binary_path_covid_images,allow_pickle=True)\n",
        "  covidAug_labels = np.load(path_label,allow_pickle=True)\n",
        "  return covidAug,covidAug_labels\n",
        "\n",
        "def load_normal():\n",
        "  training_binary_path_covid_images = os.path.join(DATA_PATH,\n",
        "          f'normal_images.npy')\n",
        "  print(\"Loading normal training pickle...\")\n",
        "  path_label= os.path.join(DATA_PATH,f'normal_labels.npy')\n",
        "  normal = np.load(training_binary_path_covid_images,allow_pickle=True)\n",
        "  normal_labels = np.load(path_label,allow_pickle=True)\n",
        "  return normal,normal_labels\n",
        "\n",
        "def load_pneumonia():\n",
        "  training_binary_path_covid_images = os.path.join(DATA_PATH,\n",
        "          f'pneumonia_images.npy')\n",
        "  print(\"Loading pneumonia training pickle...\")\n",
        "  path_label= os.path.join(DATA_PATH,f'pneumonia_labels.npy')\n",
        "  pneumonia = np.load(training_binary_path_covid_images,allow_pickle=True)\n",
        "  pneumonia_labels = np.load(path_label,allow_pickle=True)\n",
        "  return pneumonia,pneumonia_labels\n",
        "\n",
        "def load_covid_test():\n",
        "  training_binary_path_covid_images = os.path.join(DATA_PATH,\n",
        "          f'covid19_test_images.npy')\n",
        "  print(\"Loading covidtest training pickle...\")\n",
        "  path_label= os.path.join(DATA_PATH,f'covid19_test_labels.npy')\n",
        "  covidtest = np.load(training_binary_path_covid_images,allow_pickle=True)\n",
        "  covid19_test_labels = np.load(path_label,allow_pickle=True)\n",
        "  return covidtest,covid19_test_labels\n",
        "\n",
        "def load_normal_test():\n",
        "  training_binary_path_covid_images = os.path.join(DATA_PATH,\n",
        "          f'normal_test_images.npy')\n",
        "  print(\"Loading covidtest training pickle...\")\n",
        "  path_label= os.path.join(DATA_PATH,f'normal_test_labels.npy')\n",
        "  normaltest = np.load(training_binary_path_covid_images,allow_pickle=True)\n",
        "  normal_test_labels = np.load(path_label,allow_pickle=True)\n",
        "  return normaltest,normal_test_labels\n",
        "\n",
        "def load_pneumonia_test():\n",
        "  training_binary_path_covid_images = os.path.join(DATA_PATH,\n",
        "          f'pneumonia_test_images.npy')\n",
        "  print(\"Loading covidtest training pickle...\")\n",
        "  path_label= os.path.join(DATA_PATH,f'pneumonia_test_labels.npy')\n",
        "  pneumoniatest = np.load(training_binary_path_covid_images,allow_pickle=True)\n",
        "  pneumonia_test_labels = np.load(path_label,allow_pickle=True)\n",
        "  return pneumoniatest,pneumonia_test_labels"
      ],
      "execution_count": 17,
      "outputs": []
    },
    {
      "cell_type": "code",
      "metadata": {
        "id": "Cm16Lm4C0NKd",
        "colab_type": "code",
        "colab": {
          "base_uri": "https://localhost:8080/",
          "height": 54
        },
        "outputId": "22e6fbd6-9dc7-4f66-db46-073e19e18608"
      },
      "source": [
        "covid19,covid19_labels = load_covid()\n",
        "covid19.shape"
      ],
      "execution_count": 18,
      "outputs": [
        {
          "output_type": "stream",
          "text": [
            "Loading covid training pickle...\n"
          ],
          "name": "stdout"
        },
        {
          "output_type": "execute_result",
          "data": {
            "text/plain": [
              "(690, 64, 64)"
            ]
          },
          "metadata": {
            "tags": []
          },
          "execution_count": 18
        }
      ]
    },
    {
      "cell_type": "code",
      "metadata": {
        "id": "atiIySWD3Kb3",
        "colab_type": "code",
        "colab": {
          "base_uri": "https://localhost:8080/",
          "height": 54
        },
        "outputId": "4322f9db-196d-451d-a511-4111ae672411"
      },
      "source": [
        "covidGan,covidGan_labels = load_covidGAN()\n",
        "covidGan.shape"
      ],
      "execution_count": 19,
      "outputs": [
        {
          "output_type": "stream",
          "text": [
            "Loading covidGAN training pickle...\n"
          ],
          "name": "stdout"
        },
        {
          "output_type": "execute_result",
          "data": {
            "text/plain": [
              "(1500, 64, 64)"
            ]
          },
          "metadata": {
            "tags": []
          },
          "execution_count": 19
        }
      ]
    },
    {
      "cell_type": "code",
      "metadata": {
        "id": "BdR1Kf9d3MUZ",
        "colab_type": "code",
        "colab": {
          "base_uri": "https://localhost:8080/",
          "height": 54
        },
        "outputId": "3c806f19-7c6f-4f2a-c4d3-3dde5c2ed705"
      },
      "source": [
        "covidAug,covidAug_labels = load_covidAug()\n",
        "covidAug.shape"
      ],
      "execution_count": 20,
      "outputs": [
        {
          "output_type": "stream",
          "text": [
            "Loading covidAug training pickle...\n"
          ],
          "name": "stdout"
        },
        {
          "output_type": "execute_result",
          "data": {
            "text/plain": [
              "(2176, 64, 64)"
            ]
          },
          "metadata": {
            "tags": []
          },
          "execution_count": 20
        }
      ]
    },
    {
      "cell_type": "code",
      "metadata": {
        "id": "3zW1m-LS3OVp",
        "colab_type": "code",
        "colab": {
          "base_uri": "https://localhost:8080/",
          "height": 54
        },
        "outputId": "621a276e-740a-4d96-d9f8-efba146ab78e"
      },
      "source": [
        "normal,normal_labels = load_normal()\n",
        "normal.shape"
      ],
      "execution_count": 21,
      "outputs": [
        {
          "output_type": "stream",
          "text": [
            "Loading normal training pickle...\n"
          ],
          "name": "stdout"
        },
        {
          "output_type": "execute_result",
          "data": {
            "text/plain": [
              "(9292, 64, 64)"
            ]
          },
          "metadata": {
            "tags": []
          },
          "execution_count": 21
        }
      ]
    },
    {
      "cell_type": "code",
      "metadata": {
        "id": "UZo4PmbF3P0C",
        "colab_type": "code",
        "colab": {
          "base_uri": "https://localhost:8080/",
          "height": 54
        },
        "outputId": "ffe72731-63d2-4499-ebc0-8ff62f511087"
      },
      "source": [
        "pneumonia,pneumonia_labels = load_pneumonia()\n",
        "pneumonia.shape"
      ],
      "execution_count": 22,
      "outputs": [
        {
          "output_type": "stream",
          "text": [
            "Loading pneumonia training pickle...\n"
          ],
          "name": "stdout"
        },
        {
          "output_type": "execute_result",
          "data": {
            "text/plain": [
              "(6602, 64, 64)"
            ]
          },
          "metadata": {
            "tags": []
          },
          "execution_count": 22
        }
      ]
    },
    {
      "cell_type": "code",
      "metadata": {
        "id": "WSbn7Hd83R0n",
        "colab_type": "code",
        "colab": {
          "base_uri": "https://localhost:8080/",
          "height": 54
        },
        "outputId": "1b0a3ad1-0adb-4228-c1e7-e18d19dbcf9d"
      },
      "source": [
        "covidtest,covidtest_labels = load_covid_test()\n",
        "covidtest.shape"
      ],
      "execution_count": 23,
      "outputs": [
        {
          "output_type": "stream",
          "text": [
            "Loading covidtest training pickle...\n"
          ],
          "name": "stdout"
        },
        {
          "output_type": "execute_result",
          "data": {
            "text/plain": [
              "(80, 64, 64)"
            ]
          },
          "metadata": {
            "tags": []
          },
          "execution_count": 23
        }
      ]
    },
    {
      "cell_type": "code",
      "metadata": {
        "id": "RRJ2-AyI3Tm0",
        "colab_type": "code",
        "colab": {
          "base_uri": "https://localhost:8080/",
          "height": 54
        },
        "outputId": "7fd93c9b-967e-44e8-fa2c-7b15c5dda3bb"
      },
      "source": [
        "normaltest,normaltest_labels = load_normal_test()\n",
        "normaltest.shape"
      ],
      "execution_count": 24,
      "outputs": [
        {
          "output_type": "stream",
          "text": [
            "Loading covidtest training pickle...\n"
          ],
          "name": "stdout"
        },
        {
          "output_type": "execute_result",
          "data": {
            "text/plain": [
              "(905, 64, 64)"
            ]
          },
          "metadata": {
            "tags": []
          },
          "execution_count": 24
        }
      ]
    },
    {
      "cell_type": "code",
      "metadata": {
        "id": "TglOAP-43U34",
        "colab_type": "code",
        "colab": {
          "base_uri": "https://localhost:8080/",
          "height": 54
        },
        "outputId": "6eb1d0a3-c05f-4253-8f3b-3378807679e8"
      },
      "source": [
        "pneumoniatest,pneumoniatest_labels = load_pneumonia_test()\n",
        "pneumoniatest.shape"
      ],
      "execution_count": 25,
      "outputs": [
        {
          "output_type": "stream",
          "text": [
            "Loading covidtest training pickle...\n"
          ],
          "name": "stdout"
        },
        {
          "output_type": "execute_result",
          "data": {
            "text/plain": [
              "(800, 64, 64)"
            ]
          },
          "metadata": {
            "tags": []
          },
          "execution_count": 25
        }
      ]
    },
    {
      "cell_type": "code",
      "metadata": {
        "id": "Wy5v9zNDAVJG",
        "colab_type": "code",
        "colab": {}
      },
      "source": [
        "train1=np.append(covid19,covidAug,axis=0)\n",
        "train2=np.append(train1,covidGan,axis=0)\n",
        "train3=np.append(train2,pneumonia,axis=0)\n",
        "train=np.append(train3,normal,axis=0)\n",
        "\n",
        "train_labels1=np.append(covid19_labels,covidAug_labels)\n",
        "train_labels2=np.append(train_labels1,covidGan_labels)\n",
        "train_labels3=np.append(train_labels2,pneumonia_labels)\n",
        "train_labels=np.append(train_labels3,normal_labels)\n",
        "\n",
        "\n",
        "test1=np.append(covidtest,pneumoniatest,axis=0)\n",
        "test=np.append(test1,normaltest,axis=0)\n",
        "\n",
        "test_labels1=np.append(covidtest_labels,pneumoniatest_labels)\n",
        "test_labels=np.append(test_labels1,normaltest_labels)\n"
      ],
      "execution_count": 30,
      "outputs": []
    },
    {
      "cell_type": "code",
      "metadata": {
        "id": "aOw_UeFwHykh",
        "colab_type": "code",
        "colab": {
          "base_uri": "https://localhost:8080/",
          "height": 90
        },
        "outputId": "b88c0b20-0c21-4790-aa1e-e7756bd1463d"
      },
      "source": [
        "print(train.shape)\n",
        "print(train_labels.shape)\n",
        "print(test.shape)\n",
        "print(test_labels.shape)"
      ],
      "execution_count": 31,
      "outputs": [
        {
          "output_type": "stream",
          "text": [
            "(20260, 64, 64)\n",
            "(20260,)\n",
            "(1785, 64, 64)\n",
            "(1785,)\n"
          ],
          "name": "stdout"
        }
      ]
    },
    {
      "cell_type": "code",
      "metadata": {
        "id": "JDtAXaMbHth-",
        "colab_type": "code",
        "colab": {}
      },
      "source": [
        "train = np.repeat(train[..., np.newaxis], 3, -1)\n",
        "test = np.repeat(test[..., np.newaxis], 3, -1)"
      ],
      "execution_count": 32,
      "outputs": []
    },
    {
      "cell_type": "code",
      "metadata": {
        "id": "6jhyVqskITQl",
        "colab_type": "code",
        "colab": {
          "base_uri": "https://localhost:8080/",
          "height": 90
        },
        "outputId": "3927ead1-dcbb-486e-badb-1445339e3067"
      },
      "source": [
        "print(train.shape)\n",
        "print(train_labels.shape)\n",
        "print(test.shape)\n",
        "print(test_labels.shape)"
      ],
      "execution_count": 33,
      "outputs": [
        {
          "output_type": "stream",
          "text": [
            "(20260, 64, 64, 3)\n",
            "(20260,)\n",
            "(1785, 64, 64, 3)\n",
            "(1785,)\n"
          ],
          "name": "stdout"
        }
      ]
    },
    {
      "cell_type": "code",
      "metadata": {
        "id": "ZJ3pVQQgBvdw",
        "colab_type": "code",
        "colab": {}
      },
      "source": [
        "train, train_labels = shuffle(train, train_labels, random_state=0)\n",
        "test, test_labels = shuffle(test, test_labels, random_state=0)"
      ],
      "execution_count": 34,
      "outputs": []
    },
    {
      "cell_type": "code",
      "metadata": {
        "id": "GYhWY-AeCOZx",
        "colab_type": "code",
        "colab": {}
      },
      "source": [
        "np.save('/content/drive/My Drive/NumpyArrayCovidx/train.npy', train)\n",
        "np.save('/content/drive/My Drive/NumpyArrayCovidx/train_labels.npy', train_labels)\n",
        "np.save('/content/drive/My Drive/NumpyArrayCovidx/test.npy', test)\n",
        "np.save('/content/drive/My Drive/NumpyArrayCovidx/test_labels.npy', test_labels)"
      ],
      "execution_count": 35,
      "outputs": []
    }
  ]
}