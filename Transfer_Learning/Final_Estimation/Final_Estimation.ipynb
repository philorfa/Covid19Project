{
  "nbformat": 4,
  "nbformat_minor": 0,
  "metadata": {
    "colab": {
      "name": "Final_Estimation.ipynb",
      "provenance": []
    },
    "kernelspec": {
      "name": "python3",
      "display_name": "Python 3"
    },
    "accelerator": "GPU"
  },
  "cells": [
    {
      "cell_type": "code",
      "metadata": {
        "id": "xtXgSFDbgUns",
        "colab_type": "code",
        "colab": {
          "base_uri": "https://localhost:8080/",
          "height": 510
        },
        "outputId": "124137a1-c098-4e95-c854-a46053f7421e"
      },
      "source": [
        "!pip install --upgrade pyswarm\n",
        "!pip install pymc3\n",
        "!pip install --upgrade pactools"
      ],
      "execution_count": 1,
      "outputs": [
        {
          "output_type": "stream",
          "text": [
            "Collecting pyswarm\n",
            "  Downloading https://files.pythonhosted.org/packages/79/1e/254c108b5e65c65d57a83a9a448405ea8b6a6c5c10dada8bcab4e9d9a831/pyswarm-0.6.tar.gz\n",
            "Requirement already satisfied, skipping upgrade: numpy in /usr/local/lib/python3.6/dist-packages (from pyswarm) (1.18.5)\n",
            "Building wheels for collected packages: pyswarm\n",
            "  Building wheel for pyswarm (setup.py) ... \u001b[?25l\u001b[?25hdone\n",
            "  Created wheel for pyswarm: filename=pyswarm-0.6-cp36-none-any.whl size=4481 sha256=12582e977d0748250791d261473eb8d333b83979e533d82d67818ff730190eb7\n",
            "  Stored in directory: /root/.cache/pip/wheels/37/c5/f6/b33b9ac00040cb95c1f00af982a4197334a672d6de43f4699f\n",
            "Successfully built pyswarm\n",
            "Installing collected packages: pyswarm\n",
            "Successfully installed pyswarm-0.6\n",
            "Requirement already satisfied: pymc3 in /usr/local/lib/python3.6/dist-packages (3.7)\n",
            "Requirement already satisfied: pandas>=0.18.0 in /usr/local/lib/python3.6/dist-packages (from pymc3) (1.0.5)\n",
            "Requirement already satisfied: numpy>=1.13.0 in /usr/local/lib/python3.6/dist-packages (from pymc3) (1.18.5)\n",
            "Requirement already satisfied: theano>=1.0.4 in /usr/local/lib/python3.6/dist-packages (from pymc3) (1.0.5)\n",
            "Requirement already satisfied: tqdm>=4.8.4 in /usr/local/lib/python3.6/dist-packages (from pymc3) (4.41.1)\n",
            "Requirement already satisfied: h5py>=2.7.0 in /usr/local/lib/python3.6/dist-packages (from pymc3) (2.10.0)\n",
            "Requirement already satisfied: patsy>=0.4.0 in /usr/local/lib/python3.6/dist-packages (from pymc3) (0.5.1)\n",
            "Requirement already satisfied: scipy>=0.18.1 in /usr/local/lib/python3.6/dist-packages (from pymc3) (1.4.1)\n",
            "Requirement already satisfied: pytz>=2017.2 in /usr/local/lib/python3.6/dist-packages (from pandas>=0.18.0->pymc3) (2018.9)\n",
            "Requirement already satisfied: python-dateutil>=2.6.1 in /usr/local/lib/python3.6/dist-packages (from pandas>=0.18.0->pymc3) (2.8.1)\n",
            "Requirement already satisfied: six>=1.9.0 in /usr/local/lib/python3.6/dist-packages (from theano>=1.0.4->pymc3) (1.15.0)\n",
            "Collecting pactools\n",
            "\u001b[?25l  Downloading https://files.pythonhosted.org/packages/86/3d/77f4e710d8ae1c00efa98ed4cd9aaeb53bcdc80c71cae87a61889bbc7f15/pactools-0.3-py3-none-any.whl (82kB)\n",
            "\u001b[K     |████████████████████████████████| 92kB 2.4MB/s \n",
            "\u001b[?25hInstalling collected packages: pactools\n",
            "Successfully installed pactools-0.3\n"
          ],
          "name": "stdout"
        }
      ]
    },
    {
      "cell_type": "code",
      "metadata": {
        "id": "vJmkgv4Rgbpx",
        "colab_type": "code",
        "colab": {
          "base_uri": "https://localhost:8080/",
          "height": 92
        },
        "outputId": "0d6c4358-af63-49ef-c587-d2181595ac63"
      },
      "source": [
        "from sklearn.model_selection import train_test_split\n",
        "from pyswarm import pso\n",
        "from os import path\n",
        "import os\n",
        "import requests\n",
        "os.environ['TF_CPP_MIN_LOG_LEVEL'] = '2' \n",
        "import numpy\n",
        "import sys\n",
        "import numpy as np\n",
        "from numpy import loadtxt\n",
        "from numpy import array\n",
        "from numpy.random import choice\n",
        "import pandas as pd\n",
        "import time\n",
        "import random\n",
        "import statistics\n",
        "import pandas\n",
        "import math\n",
        "import csv\n",
        "import random\n",
        "import logging\n",
        "from pymc3 import *\n",
        "import pymc3 as pm\n",
        "from functools import reduce\n",
        "from operator import add\n",
        "from tqdm import tqdm\n",
        "import geopy.distance\n",
        "from scipy import stats\n",
        "import matplotlib.pyplot as plt\n",
        "import seaborn as sns\n",
        "from theano import shared\n",
        "from sklearn import preprocessing\n",
        "print('Running on PyMC3 v{}'.format(pm.__version__))\n",
        "from sklearn.preprocessing import MinMaxScaler\n",
        "from sklearn.metrics import mean_squared_error\n",
        "from sklearn.metrics import mean_absolute_error\n",
        "from sklearn.model_selection import train_test_split\n",
        "from tensorflow.keras.models import Sequential\n",
        "from tensorflow.keras.layers import Dense\n",
        "from tensorflow.keras.layers import Dropout\n",
        "from tensorflow.keras.layers import LSTM\n",
        "from tensorflow.keras.layers import Conv1D\n",
        "from tensorflow.keras.layers import Flatten\n",
        "from tensorflow.keras.layers import Activation\n",
        "from tensorflow.keras.callbacks import EarlyStopping\n",
        "from tensorflow.keras import layers\n",
        "from tensorflow import keras\n",
        "import tensorflow\n",
        "from tensorflow.keras import datasets, layers, models\n",
        "from keras.utils import np_utils\n",
        "from keras.utils import to_categorical\n",
        "\n",
        "import numpy as np\n",
        "import matplotlib.pyplot as plt\n",
        "import pandas as pd\n",
        "from matplotlib.ticker import MaxNLocator\n",
        "\n",
        "#TESNORFOW\n",
        "import tensorflow as tf\n",
        "from tensorflow import keras\n",
        "from keras import datasets, layers, models\n",
        "\n",
        "#KERAS LIBRARIES\n",
        "from keras.preprocessing.text import Tokenizer\n",
        "from keras.models import Sequential,Model\n",
        "from keras.layers import Dense, Dropout , Flatten,BatchNormalization,Conv2D,MaxPooling2D, Activation,LSTM,Embedding,Input,GlobalAveragePooling2D\n",
        "from keras.regularizers import l1, l2, l1_l2\n",
        "from keras.callbacks import EarlyStopping, ModelCheckpoint\n",
        "from keras import backend \n",
        "from keras.utils import np_utils\n",
        "from keras.utils import to_categorical\n",
        "\n",
        "from numpy import savetxt\n",
        "\n",
        "from sklearn.metrics import classification_report\n",
        "from sklearn import preprocessing\n",
        "import skimage.transform\n",
        "from sklearn.metrics import confusion_matrix"
      ],
      "execution_count": 2,
      "outputs": [
        {
          "output_type": "stream",
          "text": [
            "/usr/local/lib/python3.6/dist-packages/statsmodels/tools/_testing.py:19: FutureWarning: pandas.util.testing is deprecated. Use the functions in the public API at pandas.testing instead.\n",
            "  import pandas.util.testing as tm\n"
          ],
          "name": "stderr"
        },
        {
          "output_type": "stream",
          "text": [
            "Running on PyMC3 v3.7\n"
          ],
          "name": "stdout"
        }
      ]
    },
    {
      "cell_type": "code",
      "metadata": {
        "id": "tpnC56Jugm3X",
        "colab_type": "code",
        "colab": {}
      },
      "source": [
        "def data():\n",
        "  test = np.load('/content/drive/My Drive/NumpyArrayCovidx/test.npy',allow_pickle=True)\n",
        "  test_labels = np.load('/content/drive/My Drive/NumpyArrayCovidx/test_labels.npy',allow_pickle=True)\n",
        "  \n",
        "  test64=test/225.0\n",
        "\n",
        "  test_mid=np.empty([1785,72,72,3], dtype=int)\n",
        "  \n",
        "  for i in range(len(test)):\n",
        "    test_mid[i] = skimage.transform.resize(test[i], (72, 72))\n",
        "  \n",
        "  test72=test_mid/225.0\n",
        "\n",
        "  return test64,test72,test_labels"
      ],
      "execution_count": 3,
      "outputs": []
    },
    {
      "cell_type": "code",
      "metadata": {
        "id": "FNoz5BEmgxnS",
        "colab_type": "code",
        "colab": {}
      },
      "source": [
        "test64,test72,test_labels=data()"
      ],
      "execution_count": 4,
      "outputs": []
    },
    {
      "cell_type": "code",
      "metadata": {
        "id": "K1H89SJIysqA",
        "colab_type": "code",
        "colab": {}
      },
      "source": [
        "le = preprocessing.LabelEncoder()\n",
        "labels = le.fit_transform(test_labels)"
      ],
      "execution_count": 5,
      "outputs": []
    },
    {
      "cell_type": "code",
      "metadata": {
        "id": "voaWAsKp2omi",
        "colab_type": "code",
        "colab": {}
      },
      "source": [
        "target_names = ['covid19', 'normal', 'pneumonia']"
      ],
      "execution_count": 6,
      "outputs": []
    },
    {
      "cell_type": "code",
      "metadata": {
        "id": "rHdr0sYPg3GX",
        "colab_type": "code",
        "colab": {}
      },
      "source": [
        "pso_vgg = keras.models.load_model('/content/drive/My Drive/saved_models/enhanced/pso_vgg/top-0.928-0.2')\n",
        "pso_vgg_lstm =  keras.models.load_model('/content/drive/My Drive/saved_models/enhanced/pso_vgg_lstm/top-0.925-0.207')\n",
        "pso_vgg_simple =  keras.models.load_model('/content/drive/My Drive/saved_models/simple/pso_vgg/top-0.899-0.333')\n",
        "pso_vgg_lstm_simple =  keras.models.load_model('/content/drive/My Drive/saved_models/simple/pso_vgg_lstm/top-0.908-0.25')\n",
        "\n",
        "pso_resnet = keras.models.load_model('/content/drive/My Drive/saved_models/enhanced/pso_resnet/top-0.905-0.608')\n",
        "pso_resnet_lstm =  keras.models.load_model('/content/drive/My Drive/saved_models/enhanced/pso_resnet_lstm/top-0.918-0.48')\n",
        "pso_resnet_simple =  keras.models.load_model('/content/drive/My Drive/saved_models/simple/pso_resnet/top-0.88-0.854')\n",
        "pso_resnet_lstm_simple =  keras.models.load_model('/content/drive/My Drive/saved_models/simple/pso_resnet_lstm/top-0.896-0.739')\n",
        "\n",
        "pso_xception = keras.models.load_model('/content/drive/My Drive/saved_models/enhanced/pso_xception/top-0.93-0.685')\n",
        "pso_xcpetion_lstm =  keras.models.load_model('/content/drive/My Drive/saved_models/enhanced/pso_xception_lstm/top-0.923-0.476')\n",
        "pso_xception_simple =  keras.models.load_model('/content/drive/My Drive/saved_models/simple/pso_xception/top-0.894-0.662')\n",
        "pso_xception_lstm_simple =  keras.models.load_model('/content/drive/My Drive/saved_models/simple/pso_vgg_lstm/top-0.908-0.25')"
      ],
      "execution_count": 7,
      "outputs": []
    },
    {
      "cell_type": "code",
      "metadata": {
        "id": "I56NldCzvrzR",
        "colab_type": "code",
        "colab": {
          "base_uri": "https://localhost:8080/",
          "height": 292
        },
        "outputId": "457cb8f6-95e7-490d-eff6-7da617e560c5"
      },
      "source": [
        "pred_pso_vgg=pso_vgg.predict_classes(test64)\n",
        "cm = confusion_matrix(labels, pred_pso_vgg)\n",
        "cm = cm.astype('float') / cm.sum(axis=1)[:, np.newaxis]\n",
        "print(cm.diagonal())\n",
        "print(classification_report(labels, pred_pso_vgg,target_names=target_names))"
      ],
      "execution_count": 8,
      "outputs": [
        {
          "output_type": "stream",
          "text": [
            "WARNING:tensorflow:From <ipython-input-8-1912780ce013>:1: Sequential.predict_classes (from tensorflow.python.keras.engine.sequential) is deprecated and will be removed after 2021-01-01.\n",
            "Instructions for updating:\n",
            "Please use instead:* `np.argmax(model.predict(x), axis=-1)`,   if your model does multi-class classification   (e.g. if it uses a `softmax` last-layer activation).* `(model.predict(x) > 0.5).astype(\"int32\")`,   if your model does binary classification   (e.g. if it uses a `sigmoid` last-layer activation).\n",
            "[0.6625     0.93922652 0.88375   ]\n",
            "              precision    recall  f1-score   support\n",
            "\n",
            "     covid19       0.83      0.66      0.74        80\n",
            "      normal       0.89      0.94      0.92       905\n",
            "   pneumonia       0.92      0.88      0.90       800\n",
            "\n",
            "    accuracy                           0.90      1785\n",
            "   macro avg       0.88      0.83      0.85      1785\n",
            "weighted avg       0.90      0.90      0.90      1785\n",
            "\n"
          ],
          "name": "stdout"
        }
      ]
    },
    {
      "cell_type": "code",
      "metadata": {
        "id": "AGbC-RwAv-Pi",
        "colab_type": "code",
        "colab": {
          "base_uri": "https://localhost:8080/",
          "height": 217
        },
        "outputId": "e7665c09-274a-4933-cee6-40ab384cbbf1"
      },
      "source": [
        "pred_pso_vgg_lstm=pso_vgg_lstm.predict_classes(test64)\n",
        "cm = confusion_matrix(labels, pred_pso_vgg_lstm)\n",
        "cm = cm.astype('float') / cm.sum(axis=1)[:, np.newaxis]\n",
        "print(cm.diagonal())\n",
        "print(classification_report(labels, pred_pso_vgg_lstm,target_names=target_names))"
      ],
      "execution_count": 9,
      "outputs": [
        {
          "output_type": "stream",
          "text": [
            "[0.7        0.94033149 0.8825    ]\n",
            "              precision    recall  f1-score   support\n",
            "\n",
            "     covid19       0.67      0.70      0.69        80\n",
            "      normal       0.91      0.94      0.92       905\n",
            "   pneumonia       0.92      0.88      0.90       800\n",
            "\n",
            "    accuracy                           0.90      1785\n",
            "   macro avg       0.84      0.84      0.84      1785\n",
            "weighted avg       0.90      0.90      0.90      1785\n",
            "\n"
          ],
          "name": "stdout"
        }
      ]
    },
    {
      "cell_type": "code",
      "metadata": {
        "id": "AG_9GNtpVreQ",
        "colab_type": "code",
        "colab": {
          "base_uri": "https://localhost:8080/",
          "height": 217
        },
        "outputId": "939b9430-d21b-4818-b30c-129071ccd51f"
      },
      "source": [
        "pred_pso_vgg_simple=pso_vgg_simple.predict_classes(test64)\n",
        "cm = confusion_matrix(labels, pred_pso_vgg_simple)\n",
        "cm = cm.astype('float') / cm.sum(axis=1)[:, np.newaxis]\n",
        "print(cm.diagonal())\n",
        "print(classification_report(labels, pred_pso_vgg_simple,target_names=target_names))"
      ],
      "execution_count": 10,
      "outputs": [
        {
          "output_type": "stream",
          "text": [
            "[0.5375     0.93922652 0.90125   ]\n",
            "              precision    recall  f1-score   support\n",
            "\n",
            "     covid19       0.90      0.54      0.67        80\n",
            "      normal       0.90      0.94      0.92       905\n",
            "   pneumonia       0.91      0.90      0.90       800\n",
            "\n",
            "    accuracy                           0.90      1785\n",
            "   macro avg       0.90      0.79      0.83      1785\n",
            "weighted avg       0.90      0.90      0.90      1785\n",
            "\n"
          ],
          "name": "stdout"
        }
      ]
    },
    {
      "cell_type": "code",
      "metadata": {
        "id": "AOg5ywlFVxEG",
        "colab_type": "code",
        "colab": {
          "base_uri": "https://localhost:8080/",
          "height": 217
        },
        "outputId": "4cd4f7ec-a7b2-4282-9774-b8f9ef626566"
      },
      "source": [
        "pred_pso_vgg_lstm_simple=pso_vgg.predict_classes(test64)\n",
        "cm = confusion_matrix(labels, pred_pso_vgg_lstm_simple)\n",
        "cm = cm.astype('float') / cm.sum(axis=1)[:, np.newaxis]\n",
        "print(cm.diagonal())\n",
        "print(classification_report(labels, pred_pso_vgg_lstm_simple,target_names=target_names))"
      ],
      "execution_count": 11,
      "outputs": [
        {
          "output_type": "stream",
          "text": [
            "[0.6625     0.93922652 0.88375   ]\n",
            "              precision    recall  f1-score   support\n",
            "\n",
            "     covid19       0.83      0.66      0.74        80\n",
            "      normal       0.89      0.94      0.92       905\n",
            "   pneumonia       0.92      0.88      0.90       800\n",
            "\n",
            "    accuracy                           0.90      1785\n",
            "   macro avg       0.88      0.83      0.85      1785\n",
            "weighted avg       0.90      0.90      0.90      1785\n",
            "\n"
          ],
          "name": "stdout"
        }
      ]
    },
    {
      "cell_type": "code",
      "metadata": {
        "id": "w3dd52kYV4vX",
        "colab_type": "code",
        "colab": {
          "base_uri": "https://localhost:8080/",
          "height": 217
        },
        "outputId": "fd70fee8-ef81-49ec-83ad-45172f42522e"
      },
      "source": [
        "pred_pso_resnet=pso_resnet.predict_classes(test64)\n",
        "cm = confusion_matrix(labels, pred_pso_resnet)\n",
        "cm = cm.astype('float') / cm.sum(axis=1)[:, np.newaxis]\n",
        "print(cm.diagonal())\n",
        "print(classification_report(labels, pred_pso_resnet,target_names=target_names))"
      ],
      "execution_count": 12,
      "outputs": [
        {
          "output_type": "stream",
          "text": [
            "[0.625      0.89281768 0.8825    ]\n",
            "              precision    recall  f1-score   support\n",
            "\n",
            "     covid19       0.71      0.62      0.67        80\n",
            "      normal       0.90      0.89      0.89       905\n",
            "   pneumonia       0.87      0.88      0.88       800\n",
            "\n",
            "    accuracy                           0.88      1785\n",
            "   macro avg       0.83      0.80      0.81      1785\n",
            "weighted avg       0.88      0.88      0.88      1785\n",
            "\n"
          ],
          "name": "stdout"
        }
      ]
    },
    {
      "cell_type": "code",
      "metadata": {
        "id": "qWcoIw-Ua--h",
        "colab_type": "code",
        "colab": {
          "base_uri": "https://localhost:8080/",
          "height": 217
        },
        "outputId": "ada67120-466c-41df-d0f0-6afaa782040c"
      },
      "source": [
        "pred_pso_resnet_lstm=pso_resnet_lstm.predict_classes(test64)\n",
        "cm = confusion_matrix(labels, pred_pso_resnet_lstm)\n",
        "cm = cm.astype('float') / cm.sum(axis=1)[:, np.newaxis]\n",
        "print(cm.diagonal())\n",
        "print(classification_report(labels, pred_pso_resnet_lstm,target_names=target_names))"
      ],
      "execution_count": 13,
      "outputs": [
        {
          "output_type": "stream",
          "text": [
            "[0.6875     0.90165746 0.89      ]\n",
            "              precision    recall  f1-score   support\n",
            "\n",
            "     covid19       0.80      0.69      0.74        80\n",
            "      normal       0.90      0.90      0.90       905\n",
            "   pneumonia       0.88      0.89      0.89       800\n",
            "\n",
            "    accuracy                           0.89      1785\n",
            "   macro avg       0.86      0.83      0.84      1785\n",
            "weighted avg       0.89      0.89      0.89      1785\n",
            "\n"
          ],
          "name": "stdout"
        }
      ]
    },
    {
      "cell_type": "code",
      "metadata": {
        "id": "8mQ5S8xWbHhJ",
        "colab_type": "code",
        "colab": {
          "base_uri": "https://localhost:8080/",
          "height": 217
        },
        "outputId": "3cdb74cf-958d-4c8a-b51d-41e26f061486"
      },
      "source": [
        "pred_pso_resnet_simple=pso_resnet_simple.predict_classes(test64)\n",
        "cm = confusion_matrix(labels, pred_pso_resnet_simple)\n",
        "cm = cm.astype('float') / cm.sum(axis=1)[:, np.newaxis]\n",
        "print(cm.diagonal())\n",
        "print(classification_report(labels, pred_pso_resnet_simple,target_names=target_names))"
      ],
      "execution_count": 14,
      "outputs": [
        {
          "output_type": "stream",
          "text": [
            "[0.575     0.9038674 0.865    ]\n",
            "              precision    recall  f1-score   support\n",
            "\n",
            "     covid19       0.85      0.57      0.69        80\n",
            "      normal       0.88      0.90      0.89       905\n",
            "   pneumonia       0.86      0.86      0.86       800\n",
            "\n",
            "    accuracy                           0.87      1785\n",
            "   macro avg       0.87      0.78      0.81      1785\n",
            "weighted avg       0.87      0.87      0.87      1785\n",
            "\n"
          ],
          "name": "stdout"
        }
      ]
    },
    {
      "cell_type": "code",
      "metadata": {
        "id": "iOea2gCCq7U9",
        "colab_type": "code",
        "colab": {
          "base_uri": "https://localhost:8080/",
          "height": 217
        },
        "outputId": "abc2f660-432e-4bfb-bf8d-9899ce86928d"
      },
      "source": [
        "pred_pso_resnet_lstm_simple=pso_resnet_lstm_simple.predict_classes(test64)\n",
        "cm = confusion_matrix(labels, pred_pso_resnet_lstm_simple)\n",
        "cm = cm.astype('float') / cm.sum(axis=1)[:, np.newaxis]\n",
        "print(cm.diagonal())\n",
        "print(classification_report(labels, pred_pso_resnet_lstm_simple,target_names=target_names))"
      ],
      "execution_count": 15,
      "outputs": [
        {
          "output_type": "stream",
          "text": [
            "[0.6375     0.94143646 0.8525    ]\n",
            "              precision    recall  f1-score   support\n",
            "\n",
            "     covid19       0.84      0.64      0.72        80\n",
            "      normal       0.87      0.94      0.91       905\n",
            "   pneumonia       0.91      0.85      0.88       800\n",
            "\n",
            "    accuracy                           0.89      1785\n",
            "   macro avg       0.87      0.81      0.84      1785\n",
            "weighted avg       0.89      0.89      0.89      1785\n",
            "\n"
          ],
          "name": "stdout"
        }
      ]
    },
    {
      "cell_type": "code",
      "metadata": {
        "id": "ViCqh-J0rDIY",
        "colab_type": "code",
        "colab": {
          "base_uri": "https://localhost:8080/",
          "height": 274
        },
        "outputId": "90f27978-4bbd-4192-830a-7e53889493cf"
      },
      "source": [
        "pred_pso_xception=pso_xception.predict_classes(test72)\n",
        "cm = confusion_matrix(labels, pred_pso_xception)\n",
        "cm = cm.astype('float') / cm.sum(axis=1)[:, np.newaxis]\n",
        "print(cm.diagonal())\n",
        "print(classification_report(labels, pred_pso_xception,target_names=target_names))"
      ],
      "execution_count": 16,
      "outputs": [
        {
          "output_type": "stream",
          "text": [
            "[0. 0. 1.]\n",
            "              precision    recall  f1-score   support\n",
            "\n",
            "     covid19       0.00      0.00      0.00        80\n",
            "      normal       0.00      0.00      0.00       905\n",
            "   pneumonia       0.45      1.00      0.62       800\n",
            "\n",
            "    accuracy                           0.45      1785\n",
            "   macro avg       0.15      0.33      0.21      1785\n",
            "weighted avg       0.20      0.45      0.28      1785\n",
            "\n"
          ],
          "name": "stdout"
        },
        {
          "output_type": "stream",
          "text": [
            "/usr/local/lib/python3.6/dist-packages/sklearn/metrics/_classification.py:1272: UndefinedMetricWarning: Precision and F-score are ill-defined and being set to 0.0 in labels with no predicted samples. Use `zero_division` parameter to control this behavior.\n",
            "  _warn_prf(average, modifier, msg_start, len(result))\n"
          ],
          "name": "stderr"
        }
      ]
    },
    {
      "cell_type": "code",
      "metadata": {
        "id": "VzG_4zNprH8p",
        "colab_type": "code",
        "colab": {
          "base_uri": "https://localhost:8080/",
          "height": 274
        },
        "outputId": "ec1f9092-51cc-485e-f800-8968d49a94f7"
      },
      "source": [
        "pred_pso_xception_lstm=pso_xcpetion_lstm.predict_classes(test72)\n",
        "cm = confusion_matrix(labels, pred_pso_xception_lstm)\n",
        "cm = cm.astype('float') / cm.sum(axis=1)[:, np.newaxis]\n",
        "print(cm.diagonal())\n",
        "print(classification_report(labels, pred_pso_xception_lstm,target_names=target_names))"
      ],
      "execution_count": 17,
      "outputs": [
        {
          "output_type": "stream",
          "text": [
            "[0. 0. 1.]\n",
            "              precision    recall  f1-score   support\n",
            "\n",
            "     covid19       0.00      0.00      0.00        80\n",
            "      normal       0.00      0.00      0.00       905\n",
            "   pneumonia       0.45      1.00      0.62       800\n",
            "\n",
            "    accuracy                           0.45      1785\n",
            "   macro avg       0.15      0.33      0.21      1785\n",
            "weighted avg       0.20      0.45      0.28      1785\n",
            "\n"
          ],
          "name": "stdout"
        },
        {
          "output_type": "stream",
          "text": [
            "/usr/local/lib/python3.6/dist-packages/sklearn/metrics/_classification.py:1272: UndefinedMetricWarning: Precision and F-score are ill-defined and being set to 0.0 in labels with no predicted samples. Use `zero_division` parameter to control this behavior.\n",
            "  _warn_prf(average, modifier, msg_start, len(result))\n"
          ],
          "name": "stderr"
        }
      ]
    },
    {
      "cell_type": "code",
      "metadata": {
        "id": "q6bHPwwcrM4G",
        "colab_type": "code",
        "colab": {
          "base_uri": "https://localhost:8080/",
          "height": 274
        },
        "outputId": "6fee260b-9fa1-4e1e-cc3e-f851d5520005"
      },
      "source": [
        "pred_pso_xception_simple=pso_xception_simple.predict_classes(test72)\n",
        "cm = confusion_matrix(labels, pred_pso_xception_simple)\n",
        "cm = cm.astype('float') / cm.sum(axis=1)[:, np.newaxis]\n",
        "print(cm.diagonal())\n",
        "print(classification_report(labels, pred_pso_xception_simple,target_names=target_names))"
      ],
      "execution_count": 18,
      "outputs": [
        {
          "output_type": "stream",
          "text": [
            "[0. 0. 1.]\n",
            "              precision    recall  f1-score   support\n",
            "\n",
            "     covid19       0.00      0.00      0.00        80\n",
            "      normal       0.00      0.00      0.00       905\n",
            "   pneumonia       0.45      1.00      0.62       800\n",
            "\n",
            "    accuracy                           0.45      1785\n",
            "   macro avg       0.15      0.33      0.21      1785\n",
            "weighted avg       0.20      0.45      0.28      1785\n",
            "\n"
          ],
          "name": "stdout"
        },
        {
          "output_type": "stream",
          "text": [
            "/usr/local/lib/python3.6/dist-packages/sklearn/metrics/_classification.py:1272: UndefinedMetricWarning: Precision and F-score are ill-defined and being set to 0.0 in labels with no predicted samples. Use `zero_division` parameter to control this behavior.\n",
            "  _warn_prf(average, modifier, msg_start, len(result))\n"
          ],
          "name": "stderr"
        }
      ]
    },
    {
      "cell_type": "code",
      "metadata": {
        "id": "10CYszMrrWLe",
        "colab_type": "code",
        "colab": {
          "base_uri": "https://localhost:8080/",
          "height": 310
        },
        "outputId": "c9eaac47-67b7-4323-efe5-c7d26a9f2af0"
      },
      "source": [
        "pred_pso_xception_lstm_simple=pso_xception_lstm_simple.predict_classes(test72)\n",
        "cm = confusion_matrix(labels, pred_pso_xception_lstm_simple)\n",
        "cm = cm.astype('float') / cm.sum(axis=1)[:, np.newaxis]\n",
        "print(cm.diagonal())\n",
        "\n",
        "print(classification_report(labels, pred_pso_xception_lstm_simple,target_names=target_names))"
      ],
      "execution_count": 19,
      "outputs": [
        {
          "output_type": "stream",
          "text": [
            "WARNING:tensorflow:Model was constructed with shape (None, 64, 64, 3) for input Tensor(\"vgg19_input_4:0\", shape=(None, 64, 64, 3), dtype=float32), but it was called on an input with incompatible shape (None, 72, 72, 3).\n",
            "WARNING:tensorflow:Model was constructed with shape (None, 64, 64, 3) for input Tensor(\"input_8_1:0\", shape=(None, 64, 64, 3), dtype=float32), but it was called on an input with incompatible shape (None, 72, 72, 3).\n",
            "[0. 0. 1.]\n",
            "              precision    recall  f1-score   support\n",
            "\n",
            "     covid19       0.00      0.00      0.00        80\n",
            "      normal       0.00      0.00      0.00       905\n",
            "   pneumonia       0.45      1.00      0.62       800\n",
            "\n",
            "    accuracy                           0.45      1785\n",
            "   macro avg       0.15      0.33      0.21      1785\n",
            "weighted avg       0.20      0.45      0.28      1785\n",
            "\n"
          ],
          "name": "stdout"
        },
        {
          "output_type": "stream",
          "text": [
            "/usr/local/lib/python3.6/dist-packages/sklearn/metrics/_classification.py:1272: UndefinedMetricWarning: Precision and F-score are ill-defined and being set to 0.0 in labels with no predicted samples. Use `zero_division` parameter to control this behavior.\n",
            "  _warn_prf(average, modifier, msg_start, len(result))\n"
          ],
          "name": "stderr"
        }
      ]
    }
  ]
}