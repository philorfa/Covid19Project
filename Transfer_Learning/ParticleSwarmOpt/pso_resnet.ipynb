{
  "nbformat": 4,
  "nbformat_minor": 0,
  "metadata": {
    "colab": {
      "name": "pso_resnet.ipynb",
      "provenance": [],
      "collapsed_sections": [],
      "machine_shape": "hm"
    },
    "kernelspec": {
      "name": "python3",
      "display_name": "Python 3"
    },
    "accelerator": "GPU"
  },
  "cells": [
    {
      "cell_type": "code",
      "metadata": {
        "id": "_AWCrX5z-cnl",
        "colab_type": "code",
        "colab": {
          "base_uri": "https://localhost:8080/",
          "height": 292
        },
        "outputId": "5db8dc2e-a125-40d4-f27a-9071e8bb36a8"
      },
      "source": [
        "!pip install --upgrade pyswarm\n",
        "!pip install pymc3\n",
        "!pip install --upgrade pactools"
      ],
      "execution_count": 1,
      "outputs": [
        {
          "output_type": "stream",
          "text": [
            "Requirement already up-to-date: pyswarm in /usr/local/lib/python3.6/dist-packages (0.6)\n",
            "Requirement already satisfied, skipping upgrade: numpy in /usr/local/lib/python3.6/dist-packages (from pyswarm) (1.18.5)\n",
            "Requirement already satisfied: pymc3 in /usr/local/lib/python3.6/dist-packages (3.7)\n",
            "Requirement already satisfied: tqdm>=4.8.4 in /usr/local/lib/python3.6/dist-packages (from pymc3) (4.41.1)\n",
            "Requirement already satisfied: pandas>=0.18.0 in /usr/local/lib/python3.6/dist-packages (from pymc3) (1.0.5)\n",
            "Requirement already satisfied: patsy>=0.4.0 in /usr/local/lib/python3.6/dist-packages (from pymc3) (0.5.1)\n",
            "Requirement already satisfied: numpy>=1.13.0 in /usr/local/lib/python3.6/dist-packages (from pymc3) (1.18.5)\n",
            "Requirement already satisfied: h5py>=2.7.0 in /usr/local/lib/python3.6/dist-packages (from pymc3) (2.10.0)\n",
            "Requirement already satisfied: theano>=1.0.4 in /usr/local/lib/python3.6/dist-packages (from pymc3) (1.0.5)\n",
            "Requirement already satisfied: scipy>=0.18.1 in /usr/local/lib/python3.6/dist-packages (from pymc3) (1.4.1)\n",
            "Requirement already satisfied: python-dateutil>=2.6.1 in /usr/local/lib/python3.6/dist-packages (from pandas>=0.18.0->pymc3) (2.8.1)\n",
            "Requirement already satisfied: pytz>=2017.2 in /usr/local/lib/python3.6/dist-packages (from pandas>=0.18.0->pymc3) (2018.9)\n",
            "Requirement already satisfied: six in /usr/local/lib/python3.6/dist-packages (from patsy>=0.4.0->pymc3) (1.15.0)\n",
            "Requirement already up-to-date: pactools in /usr/local/lib/python3.6/dist-packages (0.3)\n"
          ],
          "name": "stdout"
        }
      ]
    },
    {
      "cell_type": "code",
      "metadata": {
        "id": "Da_s8jjEDGBN",
        "colab_type": "code",
        "colab": {
          "base_uri": "https://localhost:8080/",
          "height": 92
        },
        "outputId": "a2d323e8-fc23-46ca-b169-102a0fca8ab9"
      },
      "source": [
        "from sklearn.model_selection import train_test_split\n",
        "from pyswarm import pso\n",
        "from os import path\n",
        "import os\n",
        "import requests\n",
        "os.environ['TF_CPP_MIN_LOG_LEVEL'] = '2' \n",
        "import numpy\n",
        "import sys\n",
        "import numpy as np\n",
        "from numpy import loadtxt\n",
        "from numpy import array\n",
        "from numpy.random import choice\n",
        "import pandas as pd\n",
        "import time\n",
        "import random\n",
        "import statistics\n",
        "import pandas\n",
        "import math\n",
        "import csv\n",
        "import random\n",
        "import logging\n",
        "from pymc3 import *\n",
        "import pymc3 as pm\n",
        "from functools import reduce\n",
        "from operator import add\n",
        "from tqdm import tqdm\n",
        "import geopy.distance\n",
        "from scipy import stats\n",
        "import matplotlib.pyplot as plt\n",
        "import seaborn as sns\n",
        "from theano import shared\n",
        "from sklearn import preprocessing\n",
        "print('Running on PyMC3 v{}'.format(pm.__version__))\n",
        "from sklearn.preprocessing import MinMaxScaler\n",
        "from sklearn.metrics import mean_squared_error\n",
        "from sklearn.metrics import mean_absolute_error\n",
        "from sklearn.model_selection import train_test_split\n",
        "from tensorflow.keras.models import Sequential\n",
        "from tensorflow.keras.layers import Dense\n",
        "from tensorflow.keras.layers import Dropout\n",
        "from tensorflow.keras.layers import LSTM\n",
        "from tensorflow.keras.layers import Conv1D\n",
        "from tensorflow.keras.layers import Flatten\n",
        "from tensorflow.keras.layers import Activation\n",
        "from tensorflow.keras.callbacks import EarlyStopping\n",
        "from tensorflow.keras import layers\n",
        "from tensorflow import keras\n",
        "import tensorflow\n",
        "from tensorflow.keras import datasets, layers, models\n",
        "from keras.utils import np_utils\n",
        "from keras.utils import to_categorical\n",
        "\n",
        "import numpy as np\n",
        "import matplotlib.pyplot as plt\n",
        "import pandas as pd\n",
        "from matplotlib.ticker import MaxNLocator\n",
        "\n",
        "#TESNORFOW\n",
        "import tensorflow as tf\n",
        "from tensorflow import keras\n",
        "from keras import datasets, layers, models\n",
        "\n",
        "#KERAS LIBRARIES\n",
        "from keras.preprocessing.text import Tokenizer\n",
        "from keras.models import Sequential,Model\n",
        "from keras.layers import Dense, Dropout , Flatten,BatchNormalization,Conv2D,MaxPooling2D, Activation,LSTM,Embedding,Input,GlobalAveragePooling2D\n",
        "from keras.regularizers import l1, l2, l1_l2\n",
        "from keras.callbacks import EarlyStopping, ModelCheckpoint\n",
        "from keras import backend \n",
        "from keras.utils import np_utils\n",
        "from keras.utils import to_categorical\n",
        "\n",
        "from numpy import savetxt"
      ],
      "execution_count": 2,
      "outputs": [
        {
          "output_type": "stream",
          "text": [
            "/usr/local/lib/python3.6/dist-packages/statsmodels/tools/_testing.py:19: FutureWarning: pandas.util.testing is deprecated. Use the functions in the public API at pandas.testing instead.\n",
            "  import pandas.util.testing as tm\n"
          ],
          "name": "stderr"
        },
        {
          "output_type": "stream",
          "text": [
            "Running on PyMC3 v3.7\n"
          ],
          "name": "stdout"
        }
      ]
    },
    {
      "cell_type": "code",
      "metadata": {
        "id": "hHeS7YZzKA1C",
        "colab_type": "code",
        "colab": {}
      },
      "source": [
        "def data1():\n",
        "  train1 = np.load('/content/drive/My Drive/NumpyArrayCovidx/train.npy',allow_pickle=True)\n",
        "  train_labels1 = np.load('/content/drive/My Drive/NumpyArrayCovidx/train_labels.npy',allow_pickle=True)\n",
        "  train2,test1, train_labels2,test_labels1 = train_test_split(train1, train_labels1, test_size=0.2,random_state=42)\n",
        "  x_train=train2/225.0\n",
        "  y_train = pd.get_dummies(train_labels2)\n",
        "\n",
        "  x_test=test1/225.0\n",
        "  y_test = pd.get_dummies(test_labels1)\n",
        "  return x_train,y_train,x_test,y_test"
      ],
      "execution_count": 3,
      "outputs": []
    },
    {
      "cell_type": "code",
      "metadata": {
        "id": "E15N1fkZJ-CT",
        "colab_type": "code",
        "colab": {}
      },
      "source": [
        "x_train, y_train, x_test, y_test = data1()"
      ],
      "execution_count": 4,
      "outputs": []
    },
    {
      "cell_type": "code",
      "metadata": {
        "id": "QB0cLFOaDPQE",
        "colab_type": "code",
        "colab": {}
      },
      "source": [
        "IMG_SHAPE1=(64,64,3) # θα το προσαρμόσουμε\n",
        "\n",
        "resnet=keras.applications.resnet_v2.ResNet152V2(input_shape=IMG_SHAPE1,\n",
        "                                               include_top=False,\n",
        "                                               weights='imagenet')"
      ],
      "execution_count": 5,
      "outputs": []
    },
    {
      "cell_type": "code",
      "metadata": {
        "id": "vsQrcDrIES7e",
        "colab_type": "code",
        "colab": {}
      },
      "source": [
        "#fine_tuning,flatvsglobalpool,dense_layers,dropout1,dropout2\n",
        "lb=[0,0,0,0,0,0.001]\n",
        "ub=[150,1,3,0.65,0.65,0.2]"
      ],
      "execution_count": 6,
      "outputs": []
    },
    {
      "cell_type": "code",
      "metadata": {
        "id": "5vB7hdVQEUVK",
        "colab_type": "code",
        "colab": {}
      },
      "source": [
        "def create_model_dense_resnet(x):\n",
        "  print(x[0],x[1],x[2],x[3],x[4],x[5])\n",
        "  IMG_SHAPE1=(64,64,3) # θα το προσαρμόσουμε\n",
        "\n",
        "  resnet=keras.applications.resnet_v2.ResNet152V2(input_shape=IMG_SHAPE1,\n",
        "                                               include_top=False,\n",
        "                                               weights='imagenet') \n",
        "  tempre=resnet\n",
        "  for layer in tempre.layers[:(-1)*int(round(x[0]))]:\n",
        "    layer.trainable = False\n",
        "  \n",
        "  #vgg19.trainable=False\n",
        "  model = tf.keras.Sequential()\n",
        "  model.add(tempre)\n",
        "  if (int(round(x[1]))):\n",
        "    model.add(keras.layers.Flatten())\n",
        "  else:\n",
        "    model.add(keras.layers.GlobalAveragePooling2D())\n",
        "  \n",
        "  if (int(round(x[2]))==3):\n",
        "    model.add(keras.layers.Dense(128, activation='relu'))\n",
        "    model.add(keras.layers.Dropout(0.5))\n",
        "    model.add(keras.layers.Dense(64, activation='relu'))\n",
        "    model.add(keras.layers.Dropout(x[3]))\n",
        "    model.add(keras.layers.Dense(32, activation='relu'))\n",
        "    model.add(keras.layers.Dropout(x[4]))\n",
        "  elif (int(round(x[2]))==2):\n",
        "    model.add(keras.layers.Dense(64, activation='relu'))\n",
        "    model.add(keras.layers.Dropout(x[3]))\n",
        "    model.add(keras.layers.Dense(32, activation='relu'))\n",
        "    model.add(keras.layers.Dropout(x[4]))\n",
        "  elif (int(round(x[2]))==1):\n",
        "    model.add(keras.layers.Dense(32, activation='relu'))\n",
        "    model.add(keras.layers.Dropout(x[3]))\n",
        "  else:\n",
        "    pass\n",
        "\n",
        "  for layer in model.layers:\n",
        "    print(layer, layer.trainable)\n",
        "  model.add(keras.layers.Dense(3,activation=\"softmax\"))\n",
        "  if x[5]< 0.003:\n",
        "    learning_rate = 0.001\n",
        "  elif x[5]< 0.0075:\n",
        "    learning_rate = 0.005\n",
        "  elif x[5]< 0.015:\n",
        "    learning_rate = 0.01\n",
        "  elif x[5]< 0.035:\n",
        "    learning_rate = 0.02\n",
        "  elif x[5]< 0.075:\n",
        "    learning_rate = 0.05\n",
        "  elif x[5]< 0.125:\n",
        "    learning_rate = 0.1\n",
        "  elif x[5]< 0.175:\n",
        "    learning_rate = 0.15\n",
        "  else:\n",
        "    learning_rate = 0.2\n",
        "\n",
        "  opt = keras.optimizers.Adam(learning_rate=learning_rate)\n",
        "  model.compile(loss='categorical_crossentropy', optimizer='adam', metrics=[\"accuracy\"])\n",
        "  return model"
      ],
      "execution_count": 7,
      "outputs": []
    },
    {
      "cell_type": "code",
      "metadata": {
        "id": "d2T3XxVgEp6I",
        "colab_type": "code",
        "colab": {}
      },
      "source": [
        "EarlyStopper = EarlyStopping(patience=4, monitor='val_loss', mode='min')\n",
        "count=0"
      ],
      "execution_count": 8,
      "outputs": []
    },
    {
      "cell_type": "code",
      "metadata": {
        "id": "gEd_f5BNEsmC",
        "colab_type": "code",
        "colab": {}
      },
      "source": [
        "def apple(x):\n",
        "  model = create_model_dense_resnet(x)\n",
        "  model.fit(x_train, y_train, epochs=20, batch_size=1000, verbose=1,validation_data=(x_test, y_test),callbacks=[EarlyStopper])\n",
        "  loss, acc = model.evaluate(x_test, y_test, verbose=1)\n",
        "  if acc>0.9:\n",
        "    global count \n",
        "    count = count+1\n",
        "    model.save(f\"/content/drive/My Drive/saved_models/pso_resnet/model-{count}-{round(acc, 3)}-{round(loss, 3)}\")\n",
        "    savetxt(f\"/content/drive/My Drive/saved_models/pso_resnet/data-{count}.csv\", x, delimiter=',')\n",
        "  return loss "
      ],
      "execution_count": 9,
      "outputs": []
    },
    {
      "cell_type": "code",
      "metadata": {
        "id": "YVCiGz9sEvro",
        "colab_type": "code",
        "colab": {
          "base_uri": "https://localhost:8080/",
          "height": 1000
        },
        "outputId": "c654b8ab-5671-41a3-ff0e-aeb13171dc6a"
      },
      "source": [
        "xopt, fopt = pso(apple, lb, ub, swarmsize=10, omega=0.5, phip=0.5, phig=1.0, maxiter=30, minstep=1)\n",
        "print (\"Best position\"+str(xopt))\n",
        "print (\"Loss:\" + str(fopt))"
      ],
      "execution_count": null,
      "outputs": [
        {
          "output_type": "stream",
          "text": [
            "107.82377783015923 0.9518994896625311 2.363082911344248 0.38435019490964106 0.004659221447470646 0.06464708946708093\n",
            "<tensorflow.python.keras.engine.functional.Functional object at 0x7fab877a0a20> True\n",
            "<tensorflow.python.keras.layers.core.Flatten object at 0x7fab876e4240> True\n",
            "<tensorflow.python.keras.layers.core.Dense object at 0x7fab876e4390> True\n",
            "<tensorflow.python.keras.layers.core.Dropout object at 0x7fab871509b0> True\n",
            "<tensorflow.python.keras.layers.core.Dense object at 0x7fab87150c18> True\n",
            "<tensorflow.python.keras.layers.core.Dropout object at 0x7fab8715e898> True\n",
            "Epoch 1/20\n",
            "17/17 [==============================] - 12s 706ms/step - loss: 0.5745 - accuracy: 0.7709 - val_loss: 3.2528 - val_accuracy: 0.5585\n",
            "Epoch 2/20\n",
            "17/17 [==============================] - 9s 519ms/step - loss: 0.2758 - accuracy: 0.9026 - val_loss: 7.4075 - val_accuracy: 0.5558\n",
            "Epoch 3/20\n",
            "17/17 [==============================] - 9s 521ms/step - loss: 0.1833 - accuracy: 0.9363 - val_loss: 2.2702 - val_accuracy: 0.6969\n",
            "Epoch 4/20\n",
            "17/17 [==============================] - 9s 521ms/step - loss: 0.1407 - accuracy: 0.9510 - val_loss: 2.7865 - val_accuracy: 0.7231\n",
            "Epoch 5/20\n",
            "17/17 [==============================] - 9s 519ms/step - loss: 0.1153 - accuracy: 0.9589 - val_loss: 1.0175 - val_accuracy: 0.8475\n",
            "Epoch 6/20\n",
            "17/17 [==============================] - 9s 520ms/step - loss: 0.0964 - accuracy: 0.9663 - val_loss: 1.3957 - val_accuracy: 0.8581\n",
            "Epoch 7/20\n",
            "17/17 [==============================] - 9s 520ms/step - loss: 0.0914 - accuracy: 0.9705 - val_loss: 1.1263 - val_accuracy: 0.8359\n",
            "Epoch 8/20\n",
            "17/17 [==============================] - 9s 520ms/step - loss: 0.0760 - accuracy: 0.9717 - val_loss: 0.9792 - val_accuracy: 0.8645\n",
            "Epoch 9/20\n",
            "17/17 [==============================] - 9s 520ms/step - loss: 0.0567 - accuracy: 0.9806 - val_loss: 0.7787 - val_accuracy: 0.9045\n",
            "Epoch 10/20\n",
            "17/17 [==============================] - 9s 520ms/step - loss: 0.0510 - accuracy: 0.9832 - val_loss: 0.7076 - val_accuracy: 0.8971\n",
            "Epoch 11/20\n",
            "17/17 [==============================] - 9s 520ms/step - loss: 0.0302 - accuracy: 0.9903 - val_loss: 1.1956 - val_accuracy: 0.8941\n",
            "Epoch 12/20\n",
            "17/17 [==============================] - 9s 519ms/step - loss: 0.0504 - accuracy: 0.9861 - val_loss: 0.6180 - val_accuracy: 0.8941\n",
            "Epoch 13/20\n",
            "17/17 [==============================] - 9s 519ms/step - loss: 0.0273 - accuracy: 0.9907 - val_loss: 0.6359 - val_accuracy: 0.9052\n",
            "Epoch 14/20\n",
            "17/17 [==============================] - 9s 519ms/step - loss: 0.0332 - accuracy: 0.9893 - val_loss: 0.7462 - val_accuracy: 0.8996\n",
            "Epoch 15/20\n",
            "17/17 [==============================] - 9s 519ms/step - loss: 0.0233 - accuracy: 0.9928 - val_loss: 0.9233 - val_accuracy: 0.9055\n",
            "Epoch 16/20\n",
            "17/17 [==============================] - 9s 520ms/step - loss: 0.0235 - accuracy: 0.9928 - val_loss: 0.5737 - val_accuracy: 0.9025\n",
            "Epoch 17/20\n",
            "17/17 [==============================] - 9s 519ms/step - loss: 0.0202 - accuracy: 0.9944 - val_loss: 0.7415 - val_accuracy: 0.8976\n",
            "Epoch 18/20\n",
            "17/17 [==============================] - 9s 520ms/step - loss: 0.0159 - accuracy: 0.9954 - val_loss: 0.6381 - val_accuracy: 0.9072\n",
            "Epoch 19/20\n",
            "17/17 [==============================] - 9s 519ms/step - loss: 0.0179 - accuracy: 0.9941 - val_loss: 0.6787 - val_accuracy: 0.9010\n",
            "Epoch 20/20\n",
            "17/17 [==============================] - 9s 519ms/step - loss: 0.0155 - accuracy: 0.9957 - val_loss: 0.7773 - val_accuracy: 0.9038\n",
            "127/127 [==============================] - 4s 35ms/step - loss: 0.7773 - accuracy: 0.9038\n",
            "WARNING:tensorflow:From /usr/local/lib/python3.6/dist-packages/tensorflow/python/training/tracking/tracking.py:111: Model.state_updates (from tensorflow.python.keras.engine.training) is deprecated and will be removed in a future version.\n",
            "Instructions for updating:\n",
            "This property should not be used in TensorFlow 2.0, as updates are applied automatically.\n",
            "WARNING:tensorflow:From /usr/local/lib/python3.6/dist-packages/tensorflow/python/training/tracking/tracking.py:111: Layer.updates (from tensorflow.python.keras.engine.base_layer) is deprecated and will be removed in a future version.\n",
            "Instructions for updating:\n",
            "This property should not be used in TensorFlow 2.0, as updates are applied automatically.\n",
            "INFO:tensorflow:Assets written to: /content/drive/My Drive/saved_models/pso_resnet/model-1-0.904-0.777/assets\n",
            "71.12737619873923 0.739238038373766 1.1036225116228606 0.6011015250563176 0.23534179510915912 0.14171161124119594\n",
            "<tensorflow.python.keras.engine.functional.Functional object at 0x7fa98945d0f0> True\n",
            "<tensorflow.python.keras.layers.core.Flatten object at 0x7fa9894ead68> True\n",
            "<tensorflow.python.keras.layers.core.Dense object at 0x7fa9894eaba8> True\n",
            "<tensorflow.python.keras.layers.core.Dropout object at 0x7fa983f83400> True\n",
            "Epoch 1/20\n",
            "17/17 [==============================] - 10s 601ms/step - loss: 0.7476 - accuracy: 0.7025 - val_loss: 5.5216 - val_accuracy: 0.5123\n",
            "Epoch 2/20\n",
            "17/17 [==============================] - 8s 475ms/step - loss: 0.3322 - accuracy: 0.8825 - val_loss: 6.1052 - val_accuracy: 0.6629\n",
            "Epoch 3/20\n",
            "17/17 [==============================] - 8s 476ms/step - loss: 0.2277 - accuracy: 0.9170 - val_loss: 3.5992 - val_accuracy: 0.7396\n",
            "Epoch 4/20\n",
            "17/17 [==============================] - 8s 476ms/step - loss: 0.1740 - accuracy: 0.9373 - val_loss: 1.0330 - val_accuracy: 0.8618\n",
            "Epoch 5/20\n",
            "17/17 [==============================] - 8s 475ms/step - loss: 0.1307 - accuracy: 0.9493 - val_loss: 1.4932 - val_accuracy: 0.8507\n",
            "Epoch 6/20\n",
            "17/17 [==============================] - 8s 475ms/step - loss: 0.1148 - accuracy: 0.9575 - val_loss: 1.7982 - val_accuracy: 0.8761\n",
            "Epoch 7/20\n",
            "17/17 [==============================] - 8s 475ms/step - loss: 0.1532 - accuracy: 0.9442 - val_loss: 2.9113 - val_accuracy: 0.8317\n",
            "Epoch 8/20\n",
            "17/17 [==============================] - 8s 475ms/step - loss: 0.0950 - accuracy: 0.9655 - val_loss: 1.4883 - val_accuracy: 0.8467\n",
            "127/127 [==============================] - 4s 34ms/step - loss: 1.4883 - accuracy: 0.8467\n",
            "137.3086897964829 0.7506559537439677 2.787224136825616 0.6032654170116555 0.6131513437580146 0.18012404868151957\n",
            "<tensorflow.python.keras.engine.functional.Functional object at 0x7fa98e7e4320> True\n",
            "<tensorflow.python.keras.layers.core.Flatten object at 0x7fa98e92dfd0> True\n",
            "<tensorflow.python.keras.layers.core.Dense object at 0x7fa98e636080> True\n",
            "<tensorflow.python.keras.layers.core.Dropout object at 0x7fa98492cc50> True\n",
            "<tensorflow.python.keras.layers.core.Dense object at 0x7fa98492ceb8> True\n",
            "<tensorflow.python.keras.layers.core.Dropout object at 0x7fa984924f98> True\n",
            "<tensorflow.python.keras.layers.core.Dense object at 0x7fa984924978> True\n",
            "<tensorflow.python.keras.layers.core.Dropout object at 0x7fa98491c470> True\n",
            "Epoch 1/20\n",
            "17/17 [==============================] - 12s 681ms/step - loss: 1.2632 - accuracy: 0.4136 - val_loss: 3.5750 - val_accuracy: 0.4640\n",
            "Epoch 2/20\n",
            "17/17 [==============================] - 9s 555ms/step - loss: 0.9202 - accuracy: 0.5356 - val_loss: 6.8842 - val_accuracy: 0.4640\n",
            "Epoch 3/20\n",
            "17/17 [==============================] - 9s 555ms/step - loss: 0.7674 - accuracy: 0.6526 - val_loss: 4.2081 - val_accuracy: 0.4808\n",
            "Epoch 4/20\n",
            "17/17 [==============================] - 9s 554ms/step - loss: 0.5960 - accuracy: 0.7610 - val_loss: 6.3242 - val_accuracy: 0.4820\n",
            "Epoch 5/20\n",
            "17/17 [==============================] - 9s 555ms/step - loss: 0.4440 - accuracy: 0.8337 - val_loss: 6.1585 - val_accuracy: 0.5792\n",
            "127/127 [==============================] - 4s 34ms/step - loss: 6.1585 - accuracy: 0.5792\n",
            "104.2741748681613 0.03208443275130746 2.549535347563686 0.3703433937177053 0.28828724068691525 0.17607005134385934\n",
            "<tensorflow.python.keras.engine.functional.Functional object at 0x7fa98eb5a9b0> True\n",
            "<tensorflow.python.keras.layers.pooling.GlobalAveragePooling2D object at 0x7fa9869692e8> True\n",
            "<tensorflow.python.keras.layers.core.Dense object at 0x7fa9869694a8> True\n",
            "<tensorflow.python.keras.layers.core.Dropout object at 0x7fa9868006a0> True\n",
            "<tensorflow.python.keras.layers.core.Dense object at 0x7fa98680c320> True\n",
            "<tensorflow.python.keras.layers.core.Dropout object at 0x7fa9869b78d0> True\n",
            "<tensorflow.python.keras.layers.core.Dense object at 0x7fa9869b7cf8> True\n",
            "<tensorflow.python.keras.layers.core.Dropout object at 0x7fa98699cf60> True\n",
            "Epoch 1/20\n"
          ],
          "name": "stdout"
        }
      ]
    }
  ]
}
