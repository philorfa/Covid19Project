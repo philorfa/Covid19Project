{
  "nbformat": 4,
  "nbformat_minor": 0,
  "metadata": {
    "colab": {
      "name": "ScriptNumpy.ipynb",
      "provenance": [],
      "machine_shape": "hm"
    },
    "kernelspec": {
      "name": "python3",
      "display_name": "Python 3"
    }
  },
  "cells": [
    {
      "cell_type": "code",
      "metadata": {
        "id": "sdFYOBkNHEly",
        "colab_type": "code",
        "colab": {}
      },
      "source": [
        "import os\n",
        "from skimage import data, io, filters\n",
        "import numpy as np\n",
        "import tensorflow as tf\n",
        "import cv2\n",
        "from numpy.random import shuffle\n",
        "import random"
      ],
      "execution_count": 0,
      "outputs": []
    },
    {
      "cell_type": "code",
      "metadata": {
        "id": "akNfpJEcHS5A",
        "colab_type": "code",
        "colab": {
          "base_uri": "https://localhost:8080/",
          "height": 35
        },
        "outputId": "35bbcb72-6cdd-4315-bf95-54ad7a3aea4b"
      },
      "source": [
        "pneumonia_labels=[]\n",
        "pneumonia_images=[]\n",
        "\n",
        "covid_labels=[]\n",
        "covid_images=[]\n",
        "\n",
        "normal_labels=[]\n",
        "normal_images=[]"
      ],
      "execution_count": 13,
      "outputs": [
        {
          "output_type": "execute_result",
          "data": {
            "text/plain": [
              "'\\nnormal_labels=[]\\nnormal_images=[]\\n'"
            ]
          },
          "metadata": {
            "tags": []
          },
          "execution_count": 13
        }
      ]
    },
    {
      "cell_type": "code",
      "metadata": {
        "id": "njSt6iedHarA",
        "colab_type": "code",
        "outputId": "c0198404-cd2f-4cfd-cc42-bed8f9665b21",
        "colab": {
          "base_uri": "https://localhost:8080/",
          "height": 74
        }
      },
      "source": [
        "i=0\n",
        "for image_path in os.listdir('drive/My Drive/CovidxDatasetSplit/train/pneumonia'):\n",
        "  image_path=os.path.join(\"drive/My Drive/CovidxDatasetSplit/train/pneumonia\",image_path)\n",
        "  img = io.imread(image_path)\n",
        "  pneumonia_images.append(img)\n",
        "  pneumonia_labels.append('pneumonia')\n",
        "  i=i+1\n",
        "  if(i%200==0):\n",
        "    print(i)\n",
        "\n",
        "i=0\n",
        "for image_path in os.listdir('drive/My Drive/CovidxDatasetSplit/train/covid19'):\n",
        "  image_path=os.path.join(\"drive/My Drive/CovidxDatasetSplit/train/covid19\",image_path)\n",
        "  img = io.imread(image_path)\n",
        "  covid_images.append(img)\n",
        "  covid_labels.append('covid19')\n",
        "  i=i+1\n",
        "  if(i%200==0):\n",
        "    print(i)\n",
        "i=0\n",
        "for image_path in os.listdir('drive/My Drive/CovidxDatasetSplit/train/CT_COVID'):\n",
        "  image_path=os.path.join(\"drive/My Drive/CovidxDatasetSplit/train/CT_COVID\",image_path)\n",
        "  img = io.imread(image_path)\n",
        "  covid_images.append(img)\n",
        "  covid_labels.append('covid19')\n",
        "  i=i+1\n",
        "  if(i%200==0):\n",
        "    print(i)\n",
        "\n",
        "i=0\n",
        "for image_path in os.listdir('drive/My Drive/CovidxDatasetSplit/train/normal'):\n",
        "  image_path=os.path.join(\"drive/My Drive/CovidxDatasetSplit/train/normal\",image_path)\n",
        "  img = io.imread(image_path)\n",
        "  normal_images.append(img)\n",
        "  normal_labels.append('normal')\n",
        "  i=i+1\n",
        "  if(i%200==0):\n",
        "    print(i)"
      ],
      "execution_count": 14,
      "outputs": [
        {
          "output_type": "stream",
          "text": [
            "200\n"
          ],
          "name": "stdout"
        },
        {
          "output_type": "execute_result",
          "data": {
            "text/plain": [
              "'\\ni=0\\nfor image_path in os.listdir(\\'drive/My Drive/CovidxDatasetSplit/train/normal\\'):\\n  image_path=os.path.join(\"drive/My Drive/CovidxDatasetSplit/train/normal\",image_path)\\n  img = io.imread(image_path)\\n  normal_images.append(img)\\n  normal_labels.append(\\'normal\\')\\n  i=i+1\\n  if(i%200==0):\\n    print(i)\\n'"
            ]
          },
          "metadata": {
            "tags": []
          },
          "execution_count": 14
        }
      ]
    },
    {
      "cell_type": "code",
      "metadata": {
        "id": "WRYJPiVL3vCP",
        "colab_type": "code",
        "colab": {}
      },
      "source": [
        "pneumonia_images = np.array(pneumonia_images)\n",
        "pneumonia_labels = np.array(pneumonia_labels)\n",
        "shuffle(pneumonia_images)\n",
        "\n",
        "covid_images = np.array(covid_images)\n",
        "covid_labels = np.array(covid_labels)\n",
        "shuffle(covid_images)\n",
        "\n",
        "normal_images=random.choices(normal_images,k=551)\n",
        "normal_labels=random.choices(normal_labels,k=551)\n",
        "normal_images = np.array(normal_images)\n",
        "normal_labels = np.array(normal_labels)"
      ],
      "execution_count": 0,
      "outputs": []
    },
    {
      "cell_type": "code",
      "metadata": {
        "id": "a_VvrnyzHUWn",
        "colab_type": "code",
        "colab": {}
      },
      "source": [
        "pneumonia_images=pneumonia_images[:covid_images.shape[0]]\n",
        "pneumonia_labels=pneumonia_labels[:covid_images.shape[0]]\n",
        "\n",
        "np.save('/content/drive/My Drive/NumpyArrayCovidx/pneumonia_images.npy', pneumonia_images)\n",
        "np.save('/content/drive/My Drive/NumpyArrayCovidx/pneumonia_labels.npy', pneumonia_labels)\n",
        "\n",
        "np.save('/content/drive/My Drive/NumpyArrayCovidx/covid_images.npy', covid_images)\n",
        "np.save('/content/drive/My Drive/NumpyArrayCovidx/covid_labels.npy', covid_labels)\n",
        "\n",
        "np.save('/content/drive/My Drive/NumpyArrayCovidx/normal_images.npy', normal_images)\n",
        "np.save('/content/drive/My Drive/NumpyArrayCovidx/normal_labels.npy', normal_labels)\n"
      ],
      "execution_count": 0,
      "outputs": []
    }
  ]
}