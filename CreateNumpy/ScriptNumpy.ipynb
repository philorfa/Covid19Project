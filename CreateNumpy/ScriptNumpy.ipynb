{
  "nbformat": 4,
  "nbformat_minor": 0,
  "metadata": {
    "colab": {
      "name": "ScriptNumpy.ipynb",
      "provenance": [],
      "machine_shape": "hm"
    },
    "kernelspec": {
      "name": "python3",
      "display_name": "Python 3"
    }
  },
  "cells": [
    {
      "cell_type": "code",
      "metadata": {
        "id": "sdFYOBkNHEly",
        "colab_type": "code",
        "colab": {}
      },
      "source": [
        "import os\n",
        "from skimage import data, io, filters\n",
        "import numpy as np\n",
        "import tensorflow as tf\n",
        "import cv2\n",
        "from numpy.random import shuffle\n",
        "import random"
      ],
      "execution_count": 3,
      "outputs": []
    },
    {
      "cell_type": "code",
      "metadata": {
        "id": "akNfpJEcHS5A",
        "colab_type": "code",
        "colab": {
          "base_uri": "https://localhost:8080/",
          "height": 35
        },
        "outputId": "47c86188-a541-43ee-e664-352cb113e44c"
      },
      "source": [
        "'''\n",
        "pneumonia_labels=[]\n",
        "pneumonia_images=[]\n",
        "'''\n",
        "covid19_labels=[]\n",
        "covid19_images=[]\n",
        "'''\n",
        "ct_labels=[]\n",
        "ct_images=[]\n",
        "\n",
        "normal_labels=[]\n",
        "normal_images=[]\n",
        "'''"
      ],
      "execution_count": 4,
      "outputs": [
        {
          "output_type": "execute_result",
          "data": {
            "application/vnd.google.colaboratory.intrinsic+json": {
              "type": "string"
            },
            "text/plain": [
              "'\\nct_labels=[]\\nct_images=[]\\n\\nnormal_labels=[]\\nnormal_images=[]\\n'"
            ]
          },
          "metadata": {
            "tags": []
          },
          "execution_count": 4
        }
      ]
    },
    {
      "cell_type": "code",
      "metadata": {
        "id": "njSt6iedHarA",
        "colab_type": "code",
        "colab": {
          "base_uri": "https://localhost:8080/",
          "height": 181
        },
        "outputId": "cd810f1a-1201-482c-dc79-36dda8d5afd3"
      },
      "source": [
        "'''\n",
        "i=0\n",
        "for image_path in os.listdir('drive/My Drive/CovidxDatasetSplit/train/pneumonia'):\n",
        "  image_path=os.path.join(\"drive/My Drive/CovidxDatasetSplit/train/pneumonia\",image_path)\n",
        "  img = io.imread(image_path)\n",
        "  pneumonia_images.append(img)\n",
        "  pneumonia_labels.append('pneumonia')\n",
        "  i=i+1\n",
        "  if(i%200==0):\n",
        "    print(i)\n",
        "'''\n",
        "i=0\n",
        "for image_path in os.listdir('drive/My Drive/CovidxDatasetSplit/train/covid19'):\n",
        "  image_path=os.path.join(\"drive/My Drive/CovidxDatasetSplit/train/covid19\",image_path)\n",
        "  img = io.imread(image_path)\n",
        "  covid19_images.append(img)\n",
        "  covid19_labels.append('covid19')\n",
        "  i=i+1\n",
        "  if(i%200==0):\n",
        "    print(i)\n",
        "'''\n",
        "i=0\n",
        "for image_path in os.listdir('drive/My Drive/CovidxDatasetSplit/train/CT_COVID'):\n",
        "  image_path=os.path.join(\"drive/My Drive/CovidxDatasetSplit/train/CT_COVID\",image_path)\n",
        "  img = io.imread(image_path)\n",
        "  ct_images.append(img)\n",
        "  ct_labels.append('covid19')\n",
        "  i=i+1\n",
        "  if(i%200==0):\n",
        "    print(i)\n",
        "    \n",
        "i=0\n",
        "for image_path in os.listdir('drive/My Drive/CovidxDatasetSplit/train/normal'):\n",
        "  image_path=os.path.join(\"drive/My Drive/CovidxDatasetSplit/train/normal\",image_path)\n",
        "  img = io.imread(image_path)\n",
        "  normal_images.append(img)\n",
        "  normal_labels.append('normal')\n",
        "  i=i+1\n",
        "  if(i%200==0):\n",
        "    print(i)\n",
        "'''"
      ],
      "execution_count": 5,
      "outputs": [
        {
          "output_type": "stream",
          "text": [
            "200\n",
            "400\n",
            "600\n"
          ],
          "name": "stdout"
        },
        {
          "output_type": "execute_result",
          "data": {
            "application/vnd.google.colaboratory.intrinsic+json": {
              "type": "string"
            },
            "text/plain": [
              "'\\ni=0\\nfor image_path in os.listdir(\\'drive/My Drive/CovidxDatasetSplit/train/CT_COVID\\'):\\n  image_path=os.path.join(\"drive/My Drive/CovidxDatasetSplit/train/CT_COVID\",image_path)\\n  img = io.imread(image_path)\\n  ct_images.append(img)\\n  ct_labels.append(\\'covid19\\')\\n  i=i+1\\n  if(i%200==0):\\n    print(i)\\n    \\ni=0\\nfor image_path in os.listdir(\\'drive/My Drive/CovidxDatasetSplit/train/normal\\'):\\n  image_path=os.path.join(\"drive/My Drive/CovidxDatasetSplit/train/normal\",image_path)\\n  img = io.imread(image_path)\\n  normal_images.append(img)\\n  normal_labels.append(\\'normal\\')\\n  i=i+1\\n  if(i%200==0):\\n    print(i)\\n'"
            ]
          },
          "metadata": {
            "tags": []
          },
          "execution_count": 5
        }
      ]
    },
    {
      "cell_type": "code",
      "metadata": {
        "id": "WRYJPiVL3vCP",
        "colab_type": "code",
        "colab": {
          "base_uri": "https://localhost:8080/",
          "height": 72
        },
        "outputId": "9d1cad0f-1e90-4f59-fd3a-f4e107c5ab85"
      },
      "source": [
        "'''\n",
        "pneumonia_images = np.array(pneumonia_images)\n",
        "pneumonia_labels = np.array(pneumonia_labels)\n",
        "shuffle(pneumonia_images)\n",
        "'''\n",
        "\n",
        "covid19_images = np.array(covid19_images)\n",
        "covid19_labels = np.array(covid19_labels)\n",
        "shuffle(covid19_images)\n",
        "\n",
        "'''\n",
        "ct_images = np.array(ct_images)\n",
        "ct_labels = np.array(ct_labels)\n",
        "shuffle(ct_images)\n",
        "\n",
        "normal_images=random.choices(normal_images,k=551)\n",
        "normal_labels=random.choices(normal_labels,k=551)\n",
        "normal_images = np.array(normal_images)\n",
        "normal_labels = np.array(normal_labels)\n",
        "'''"
      ],
      "execution_count": 6,
      "outputs": [
        {
          "output_type": "execute_result",
          "data": {
            "application/vnd.google.colaboratory.intrinsic+json": {
              "type": "string"
            },
            "text/plain": [
              "'\\nct_images = np.array(ct_images)\\nct_labels = np.array(ct_labels)\\nshuffle(ct_images)\\n\\nnormal_images=random.choices(normal_images,k=551)\\nnormal_labels=random.choices(normal_labels,k=551)\\nnormal_images = np.array(normal_images)\\nnormal_labels = np.array(normal_labels)\\n'"
            ]
          },
          "metadata": {
            "tags": []
          },
          "execution_count": 6
        }
      ]
    },
    {
      "cell_type": "code",
      "metadata": {
        "id": "a_VvrnyzHUWn",
        "colab_type": "code",
        "colab": {
          "base_uri": "https://localhost:8080/",
          "height": 90
        },
        "outputId": "f9e024cc-3e1e-41f1-a9ac-a93c65487c0b"
      },
      "source": [
        "'''\n",
        "pneumonia_images=pneumonia_images[:covid_images.shape[0]]\n",
        "pneumonia_labels=pneumonia_labels[:covid_images.shape[0]]\n",
        "\n",
        "np.save('/content/drive/My Drive/NumpyArrayCovidx/pneumonia_images.npy', pneumonia_images)\n",
        "np.save('/content/drive/My Drive/NumpyArrayCovidx/pneumonia_labels.npy', pneumonia_labels)\n",
        "'''\n",
        "np.save('/content/drive/My Drive/NumpyArrayCovidx/covid19_images.npy', covid19_images)\n",
        "np.save('/content/drive/My Drive/NumpyArrayCovidx/covid19_labels.npy', covid19_labels)\n",
        "'''\n",
        "np.save('/content/drive/My Drive/NumpyArrayCovidx/ct_images.npy', ct_images)\n",
        "np.save('/content/drive/My Drive/NumpyArrayCovidx/ct_labels.npy', ct_labels)\n",
        "\n",
        "\n",
        "np.save('/content/drive/My Drive/NumpyArrayCovidx/normal_images.npy', normal_images)\n",
        "np.save('/content/drive/My Drive/NumpyArrayCovidx/normal_labels.npy', normal_labels)\n",
        "'''"
      ],
      "execution_count": 7,
      "outputs": [
        {
          "output_type": "execute_result",
          "data": {
            "application/vnd.google.colaboratory.intrinsic+json": {
              "type": "string"
            },
            "text/plain": [
              "\"\\nnp.save('/content/drive/My Drive/NumpyArrayCovidx/ct_images.npy', ct_images)\\nnp.save('/content/drive/My Drive/NumpyArrayCovidx/ct_labels.npy', ct_labels)\\n\\n\\nnp.save('/content/drive/My Drive/NumpyArrayCovidx/normal_images.npy', normal_images)\\nnp.save('/content/drive/My Drive/NumpyArrayCovidx/normal_labels.npy', normal_labels)\\n\""
            ]
          },
          "metadata": {
            "tags": []
          },
          "execution_count": 7
        }
      ]
    }
  ]
}