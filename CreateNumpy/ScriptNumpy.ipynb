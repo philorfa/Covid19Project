{
  "nbformat": 4,
  "nbformat_minor": 0,
  "metadata": {
    "colab": {
      "name": "ScriptNumpy.ipynb",
      "provenance": [],
      "machine_shape": "hm"
    },
    "kernelspec": {
      "name": "python3",
      "display_name": "Python 3"
    },
    "accelerator": "TPU"
  },
  "cells": [
    {
      "cell_type": "code",
      "metadata": {
        "id": "sdFYOBkNHEly",
        "colab_type": "code",
        "colab": {}
      },
      "source": [
        "import os\n",
        "from skimage import data, io, filters\n",
        "import numpy as np\n",
        "import tensorflow as tf\n",
        "import cv2\n",
        "from numpy.random import shuffle\n",
        "import random"
      ],
      "execution_count": 19,
      "outputs": []
    },
    {
      "cell_type": "code",
      "metadata": {
        "id": "akNfpJEcHS5A",
        "colab_type": "code",
        "colab": {}
      },
      "source": [
        "pneumonia_labels=[]\n",
        "pneumonia_images=[]\n",
        "\n",
        "covid19_labels=[]\n",
        "covid19_images=[]\n",
        "\n",
        "normal_labels=[]\n",
        "normal_images=[]"
      ],
      "execution_count": 2,
      "outputs": []
    },
    {
      "cell_type": "code",
      "metadata": {
        "id": "njSt6iedHarA",
        "colab_type": "code",
        "colab": {
          "base_uri": "https://localhost:8080/",
          "height": 163
        },
        "outputId": "7a4182ae-7ba6-40d1-fc43-eb2ed923051c"
      },
      "source": [
        "i=0\n",
        "for image_path in os.listdir('drive/My Drive/CovidxDatasetSplit/test/pneumonia'):\n",
        "  image_path=os.path.join(\"drive/My Drive/CovidxDatasetSplit/test/pneumonia\",image_path)\n",
        "  img = io.imread(image_path)\n",
        "  pneumonia_images.append(img)\n",
        "  pneumonia_labels.append('pneumonia')\n",
        "  i=i+1\n",
        "  if(i%200==0):\n",
        "    print(i)\n",
        "\n",
        "i=0\n",
        "for image_path in os.listdir('drive/My Drive/CovidxDatasetSplit/test/covid19'):\n",
        "  image_path=os.path.join(\"drive/My Drive/CovidxDatasetSplit/test/covid19\",image_path)\n",
        "  img = io.imread(image_path)\n",
        "  covid19_images.append(img)\n",
        "  covid19_labels.append('covid19')\n",
        "  i=i+1\n",
        "  if(i%200==0):\n",
        "    print(i)\n",
        "   \n",
        "i=0\n",
        "for image_path in os.listdir('drive/My Drive/CovidxDatasetSplit/test/normal'):\n",
        "  image_path=os.path.join(\"drive/My Drive/CovidxDatasetSplit/test/normal\",image_path)\n",
        "  img = io.imread(image_path)\n",
        "  normal_images.append(img)\n",
        "  normal_labels.append('normal')\n",
        "  i=i+1\n",
        "  if(i%200==0):\n",
        "    print(i)"
      ],
      "execution_count": 3,
      "outputs": [
        {
          "output_type": "stream",
          "text": [
            "200\n",
            "400\n",
            "600\n",
            "800\n",
            "200\n",
            "400\n",
            "600\n",
            "800\n"
          ],
          "name": "stdout"
        }
      ]
    },
    {
      "cell_type": "code",
      "metadata": {
        "id": "It_Z0XrJ7DD6",
        "colab_type": "code",
        "colab": {
          "base_uri": "https://localhost:8080/",
          "height": 35
        },
        "outputId": "c4317f66-63c1-4a80-9b81-9c4318dc458f"
      },
      "source": [
        "len(pneumonia_images)"
      ],
      "execution_count": 55,
      "outputs": [
        {
          "output_type": "execute_result",
          "data": {
            "text/plain": [
              "800"
            ]
          },
          "metadata": {
            "tags": []
          },
          "execution_count": 55
        }
      ]
    },
    {
      "cell_type": "code",
      "metadata": {
        "id": "Xdlm2YD_36a0",
        "colab_type": "code",
        "colab": {}
      },
      "source": [
        "for i in range(len(pneumonia_images)):\n",
        "  if pneumonia_images[i].ndim==3:\n",
        "    pneumonia_images[i]=pneumonia_images[i][:,:,0]"
      ],
      "execution_count": 58,
      "outputs": []
    },
    {
      "cell_type": "code",
      "metadata": {
        "id": "WRYJPiVL3vCP",
        "colab_type": "code",
        "colab": {
          "base_uri": "https://localhost:8080/",
          "height": 908
        },
        "outputId": "9e8a879e-1c3e-48a3-d1fc-d17a979019d0"
      },
      "source": [
        "pneumonia_images = np.array(pneumonia_images)\n",
        "pneumonia_labels = np.array(pneumonia_labels)\n",
        "shuffle(pneumonia_images)\n",
        "\n",
        "covid19_images = np.array(covid19_images)\n",
        "covid19_labels = np.array(covid19_labels)\n",
        "shuffle(covid19_images)\n",
        "\n",
        "normal_images = np.array(normal_images)\n",
        "normal_labels = np.array(normal_labels)\n",
        "shuffle(normal_images)"
      ],
      "execution_count": 59,
      "outputs": [
        {
          "output_type": "execute_result",
          "data": {
            "text/plain": [
              "array([[[178, 170, 161, ...,  21,  13,   0],\n",
              "        [168, 159, 147, ...,  21,  13,   0],\n",
              "        [159, 148, 135, ...,  21,  13,   0],\n",
              "        ...,\n",
              "        [255, 246, 233, ..., 169, 176, 110],\n",
              "        [255, 248, 234, ..., 177, 182, 113],\n",
              "        [254, 249, 234, ..., 185, 188, 115]],\n",
              "\n",
              "       [[232, 231, 232, ..., 234, 233, 234],\n",
              "        [231, 230, 230, ..., 235, 234, 234],\n",
              "        [230, 228, 227, ..., 235, 234, 235],\n",
              "        ...,\n",
              "        [ 21,  21,  21, ...,  21,  21,  21],\n",
              "        [ 21,  21,  21, ...,  21,  21,  21],\n",
              "        [ 21,  21,  21, ...,  21,  21,  21]],\n",
              "\n",
              "       [[  1,   0,   2, ...,  65,  64,  65],\n",
              "        [  0,   0,   2, ...,  64,  63,  65],\n",
              "        [  0,   0,   2, ...,  60,  59,  61],\n",
              "        ...,\n",
              "        [  0,   0,   0, ...,   0,   0,   0],\n",
              "        [  0,   0,   0, ...,   0,   0,   0],\n",
              "        [  0,   0,   0, ...,   0,   0,   0]],\n",
              "\n",
              "       ...,\n",
              "\n",
              "       [[  0,   0,   0, ...,   0,   0,   0],\n",
              "        [  0,   0,   0, ...,   0,   0,   0],\n",
              "        [  0,   0,   0, ...,   0,   0,   0],\n",
              "        ...,\n",
              "        [  0,   1,   2, ...,   0,   0,   0],\n",
              "        [  0,   0,   0, ...,   0,   0,   0],\n",
              "        [  1,   1,   0, ...,   0,   0,   0]],\n",
              "\n",
              "       [[  1,   0,   6, ...,  22,  23,   6],\n",
              "        [  1,   0,  22, ...,  35,  37,  20],\n",
              "        [  1,   0,  10, ...,  35,  37,  19],\n",
              "        ...,\n",
              "        [  1,   0,  11, ..., 218, 224, 107],\n",
              "        [  0,   0,  21, ..., 228, 228, 114],\n",
              "        [  2,   0,   9, ..., 124, 143,  60]],\n",
              "\n",
              "       [[  0,   0,   0, ...,  59,  55,  57],\n",
              "        [  0,   0,   0, ...,  63,  58,  59],\n",
              "        [  0,   0,   0, ...,  64,  59,  57],\n",
              "        ...,\n",
              "        [  0,   0,   0, ...,   0,   0,   0],\n",
              "        [  0,   0,   0, ...,   0,   0,   0],\n",
              "        [  0,   0,   0, ...,   0,   0,   0]]], dtype=uint8)"
            ]
          },
          "metadata": {
            "tags": []
          },
          "execution_count": 59
        }
      ]
    },
    {
      "cell_type": "code",
      "metadata": {
        "id": "a_VvrnyzHUWn",
        "colab_type": "code",
        "colab": {}
      },
      "source": [
        "np.save('/content/drive/My Drive/NumpyArrayCovidx/pneumonia_test_images.npy', pneumonia_images)\n",
        "np.save('/content/drive/My Drive/NumpyArrayCovidx/pneumonia_test_labels.npy', pneumonia_labels)\n",
        "\n",
        "np.save('/content/drive/My Drive/NumpyArrayCovidx/covid19_test_images.npy', covid19_images)\n",
        "np.save('/content/drive/My Drive/NumpyArrayCovidx/covid19_test_labels.npy', covid19_labels)\n",
        "\n",
        "np.save('/content/drive/My Drive/NumpyArrayCovidx/normal_test_images.npy', normal_images)\n",
        "np.save('/content/drive/My Drive/NumpyArrayCovidx/normal_test_labels.npy', normal_labels)"
      ],
      "execution_count": 60,
      "outputs": []
    }
  ]
}
