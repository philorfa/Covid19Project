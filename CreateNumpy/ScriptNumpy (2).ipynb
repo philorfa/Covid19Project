{
  "nbformat": 4,
  "nbformat_minor": 0,
  "metadata": {
    "colab": {
      "name": "ScriptNumpy.ipynb",
      "provenance": [],
      "machine_shape": "hm"
    },
    "kernelspec": {
      "name": "python3",
      "display_name": "Python 3"
    },
    "accelerator": "TPU"
  },
  "cells": [
    {
      "cell_type": "code",
      "metadata": {
        "id": "sdFYOBkNHEly",
        "colab_type": "code",
        "colab": {}
      },
      "source": [
        "import os\n",
        "from skimage import data, io, filters\n",
        "import numpy as np\n",
        "import tensorflow as tf\n",
        "import cv2\n",
        "from numpy.random import shuffle\n",
        "import random"
      ],
      "execution_count": 1,
      "outputs": []
    },
    {
      "cell_type": "code",
      "metadata": {
        "id": "akNfpJEcHS5A",
        "colab_type": "code",
        "colab": {
          "base_uri": "https://localhost:8080/",
          "height": 35
        },
        "outputId": "0377b2ae-111a-4076-e966-28d77f616b46"
      },
      "source": [
        "pneumonia_labels=[]\n",
        "pneumonia_images=[]\n",
        "'''\n",
        "covid19_labels=[]\n",
        "covid19_images=[]\n",
        "\n",
        "normal_labels=[]\n",
        "normal_images=[]\n",
        "'''"
      ],
      "execution_count": 2,
      "outputs": [
        {
          "output_type": "execute_result",
          "data": {
            "application/vnd.google.colaboratory.intrinsic+json": {
              "type": "string"
            },
            "text/plain": [
              "'\\ncovid19_labels=[]\\ncovid19_images=[]\\n\\nnormal_labels=[]\\nnormal_images=[]\\n'"
            ]
          },
          "metadata": {
            "tags": []
          },
          "execution_count": 2
        }
      ]
    },
    {
      "cell_type": "code",
      "metadata": {
        "id": "njSt6iedHarA",
        "colab_type": "code",
        "colab": {
          "base_uri": "https://localhost:8080/",
          "height": 726
        },
        "outputId": "824f7969-a9df-47e8-ac88-f42a1df502d3"
      },
      "source": [
        "i=0\n",
        "for image_path in os.listdir('drive/My Drive/CovidxDatasetSplit/pneumonia'):\n",
        "  image_path=os.path.join(\"drive/My Drive/CovidxDatasetSplit/pneumonia\",image_path)\n",
        "  img = io.imread(image_path)\n",
        "  pneumonia_images.append(img)\n",
        "  pneumonia_labels.append('pneumonia')\n",
        "  i=i+1\n",
        "  if(i%200==0):\n",
        "    print(i)\n",
        "'''\n",
        "i=0\n",
        "for image_path in os.listdir('drive/My Drive/CovidxDatasetSplit/test/covid19'):\n",
        "  image_path=os.path.join(\"drive/My Drive/CovidxDatasetSplit/test/covid19\",image_path)\n",
        "  img = io.imread(image_path)\n",
        "  covid19_images.append(img)\n",
        "  covid19_labels.append('covid19')\n",
        "  i=i+1\n",
        "  if(i%200==0):\n",
        "    print(i)\n",
        "i=0\n",
        "for image_path in os.listdir('drive/My Drive/CovidxDatasetSplit/normal'):\n",
        "  image_path=os.path.join(\"drive/My Drive/CovidxDatasetSplit/normal\",image_path)\n",
        "  img = io.imread(image_path)\n",
        "  normal_images.append(img)\n",
        "  normal_labels.append('normal')\n",
        "  i=i+1\n",
        "  if(i%200==0):\n",
        "    print(i)\n",
        "'''"
      ],
      "execution_count": 3,
      "outputs": [
        {
          "output_type": "stream",
          "text": [
            "200\n",
            "400\n",
            "600\n",
            "800\n",
            "1000\n",
            "1200\n",
            "1400\n",
            "1600\n",
            "1800\n",
            "2000\n",
            "2200\n",
            "2400\n",
            "2600\n",
            "2800\n",
            "3000\n",
            "3200\n",
            "3400\n",
            "3600\n",
            "3800\n",
            "4000\n",
            "4200\n",
            "4400\n",
            "4600\n",
            "4800\n",
            "5000\n",
            "5200\n",
            "5400\n",
            "5600\n",
            "5800\n",
            "6000\n",
            "6200\n",
            "6400\n",
            "6600\n"
          ],
          "name": "stdout"
        },
        {
          "output_type": "execute_result",
          "data": {
            "application/vnd.google.colaboratory.intrinsic+json": {
              "type": "string"
            },
            "text/plain": [
              "'\\ni=0\\nfor image_path in os.listdir(\\'drive/My Drive/CovidxDatasetSplit/test/covid19\\'):\\n  image_path=os.path.join(\"drive/My Drive/CovidxDatasetSplit/test/covid19\",image_path)\\n  img = io.imread(image_path)\\n  covid19_images.append(img)\\n  covid19_labels.append(\\'covid19\\')\\n  i=i+1\\n  if(i%200==0):\\n    print(i)\\ni=0\\nfor image_path in os.listdir(\\'drive/My Drive/CovidxDatasetSplit/normal\\'):\\n  image_path=os.path.join(\"drive/My Drive/CovidxDatasetSplit/normal\",image_path)\\n  img = io.imread(image_path)\\n  normal_images.append(img)\\n  normal_labels.append(\\'normal\\')\\n  i=i+1\\n  if(i%200==0):\\n    print(i)\\n'"
            ]
          },
          "metadata": {
            "tags": []
          },
          "execution_count": 3
        }
      ]
    },
    {
      "cell_type": "code",
      "metadata": {
        "id": "Xdlm2YD_36a0",
        "colab_type": "code",
        "colab": {
          "base_uri": "https://localhost:8080/",
          "height": 90
        },
        "outputId": "7de5f79f-78d7-414b-d17a-b34a9fe4abf8"
      },
      "source": [
        "for i in range(len(pneumonia_images)):\n",
        "  if pneumonia_images[i].ndim==3:\n",
        "    pneumonia_images[i]=pneumonia_images[i][:,:,0]\n",
        "  pneumonia_images[i]=cv2.resize(pneumonia_images[i], dsize=(64, 64))\n",
        "'''\n",
        "for i in range(len(normal_images)):\n",
        "  if normal_images[i].ndim==3:\n",
        "    normal_images[i]=normal_images[i][:,:,0]\n",
        "  normal_images[i]=cv2.resize(normal_images[i], dsize=(64, 64))\n",
        "\n",
        "for i in range(len(covid19_images)):\n",
        "  if covid19_images[i].ndim==3:\n",
        "    covid19_images[i]=covid19_images[i][:,:,0]\n",
        "  covid19_images[i]=cv2.resize(covid19_images[i], dsize=(64, 64))\n",
        "'''"
      ],
      "execution_count": 4,
      "outputs": [
        {
          "output_type": "execute_result",
          "data": {
            "application/vnd.google.colaboratory.intrinsic+json": {
              "type": "string"
            },
            "text/plain": [
              "'\\nfor i in range(len(normal_images)):\\n  if normal_images[i].ndim==3:\\n    normal_images[i]=normal_images[i][:,:,0]\\n  normal_images[i]=cv2.resize(normal_images[i], dsize=(64, 64))\\n\\nfor i in range(len(covid19_images)):\\n  if covid19_images[i].ndim==3:\\n    covid19_images[i]=covid19_images[i][:,:,0]\\n  covid19_images[i]=cv2.resize(covid19_images[i], dsize=(64, 64))\\n'"
            ]
          },
          "metadata": {
            "tags": []
          },
          "execution_count": 4
        }
      ]
    },
    {
      "cell_type": "code",
      "metadata": {
        "id": "WRYJPiVL3vCP",
        "colab_type": "code",
        "colab": {
          "base_uri": "https://localhost:8080/",
          "height": 72
        },
        "outputId": "7efb3151-662e-465b-ce4b-9683dd658fa5"
      },
      "source": [
        "pneumonia_images = np.array(pneumonia_images)\n",
        "pneumonia_labels = np.array(pneumonia_labels)\n",
        "shuffle(pneumonia_images)\n",
        "'''\n",
        "covid19_images = np.array(covid19_images)\n",
        "covid19_labels = np.array(covid19_labels)\n",
        "shuffle(covid19_images)\n",
        "\n",
        "normal_images = np.array(normal_images)\n",
        "normal_labels = np.array(normal_labels)\n",
        "shuffle(normal_images)\n",
        "'''"
      ],
      "execution_count": 5,
      "outputs": [
        {
          "output_type": "execute_result",
          "data": {
            "application/vnd.google.colaboratory.intrinsic+json": {
              "type": "string"
            },
            "text/plain": [
              "'\\ncovid19_images = np.array(covid19_images)\\ncovid19_labels = np.array(covid19_labels)\\nshuffle(covid19_images)\\n\\nnormal_images = np.array(normal_images)\\nnormal_labels = np.array(normal_labels)\\nshuffle(normal_images)\\n'"
            ]
          },
          "metadata": {
            "tags": []
          },
          "execution_count": 5
        }
      ]
    },
    {
      "cell_type": "code",
      "metadata": {
        "id": "a_VvrnyzHUWn",
        "colab_type": "code",
        "colab": {
          "base_uri": "https://localhost:8080/",
          "height": 90
        },
        "outputId": "8f8ce4e9-b5af-43ee-db8a-13d9bea36de3"
      },
      "source": [
        "np.save('/content/drive/My Drive/NumpyArrayCovidx/pneumonia_images.npy', pneumonia_images)\n",
        "np.save('/content/drive/My Drive/NumpyArrayCovidx/pneumonia_labels.npy', pneumonia_labels)\n",
        "'''\n",
        "np.save('/content/drive/My Drive/NumpyArrayCovidx/covid19_test_images.npy', covid19_images)\n",
        "np.save('/content/drive/My Drive/NumpyArrayCovidx/covid19_test_labels.npy', covid19_labels)\n",
        "\n",
        "np.save('/content/drive/My Drive/NumpyArrayCovidx/normal_images.npy', normal_images)\n",
        "np.save('/content/drive/My Drive/NumpyArrayCovidx/normal_labels.npy', normal_labels)\n",
        "'''"
      ],
      "execution_count": 6,
      "outputs": [
        {
          "output_type": "execute_result",
          "data": {
            "application/vnd.google.colaboratory.intrinsic+json": {
              "type": "string"
            },
            "text/plain": [
              "\"\\nnp.save('/content/drive/My Drive/NumpyArrayCovidx/covid19_test_images.npy', covid19_images)\\nnp.save('/content/drive/My Drive/NumpyArrayCovidx/covid19_test_labels.npy', covid19_labels)\\n\\nnp.save('/content/drive/My Drive/NumpyArrayCovidx/normal_images.npy', normal_images)\\nnp.save('/content/drive/My Drive/NumpyArrayCovidx/normal_labels.npy', normal_labels)\\n\""
            ]
          },
          "metadata": {
            "tags": []
          },
          "execution_count": 6
        }
      ]
    }
  ]
}