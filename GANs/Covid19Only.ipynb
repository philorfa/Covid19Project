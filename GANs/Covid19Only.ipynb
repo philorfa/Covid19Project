{
  "nbformat": 4,
  "nbformat_minor": 0,
  "metadata": {
    "colab": {
      "name": "Covid19Only",
      "provenance": [],
      "collapsed_sections": []
    },
    "kernelspec": {
      "name": "python3",
      "display_name": "Python 3"
    },
    "accelerator": "GPU"
  },
  "cells": [
    {
      "cell_type": "code",
      "metadata": {
        "id": "nwJuNeOJVP19",
        "colab_type": "code",
        "outputId": "ee1ff423-1d75-4597-87c6-104f4b242f51",
        "colab": {
          "base_uri": "https://localhost:8080/",
          "height": 326
        }
      },
      "source": [
        "gpu_info = !nvidia-smi\n",
        "gpu_info = '\\n'.join(gpu_info)\n",
        "if gpu_info.find('failed') >= 0:\n",
        "  print('Select the Runtime > \"Change runtime type\" menu to enable a GPU accelerator, ')\n",
        "  print('and then re-execute this cell.')\n",
        "else:\n",
        "  print(gpu_info)"
      ],
      "execution_count": 1,
      "outputs": [
        {
          "output_type": "stream",
          "text": [
            "Mon Jun  1 19:57:02 2020       \n",
            "+-----------------------------------------------------------------------------+\n",
            "| NVIDIA-SMI 440.82       Driver Version: 418.67       CUDA Version: 10.1     |\n",
            "|-------------------------------+----------------------+----------------------+\n",
            "| GPU  Name        Persistence-M| Bus-Id        Disp.A | Volatile Uncorr. ECC |\n",
            "| Fan  Temp  Perf  Pwr:Usage/Cap|         Memory-Usage | GPU-Util  Compute M. |\n",
            "|===============================+======================+======================|\n",
            "|   0  Tesla P100-PCIE...  Off  | 00000000:00:04.0 Off |                    0 |\n",
            "| N/A   50C    P0    29W / 250W |      0MiB / 16280MiB |      0%      Default |\n",
            "+-------------------------------+----------------------+----------------------+\n",
            "                                                                               \n",
            "+-----------------------------------------------------------------------------+\n",
            "| Processes:                                                       GPU Memory |\n",
            "|  GPU       PID   Type   Process name                             Usage      |\n",
            "|=============================================================================|\n",
            "|  No running processes found                                                 |\n",
            "+-----------------------------------------------------------------------------+\n"
          ],
          "name": "stdout"
        }
      ]
    },
    {
      "cell_type": "code",
      "metadata": {
        "id": "F9APvpjJVX1X",
        "colab_type": "code",
        "outputId": "a44d11fe-92a6-48f3-ed84-266e4cc6ff78",
        "colab": {
          "base_uri": "https://localhost:8080/",
          "height": 35
        }
      },
      "source": [
        "import tensorflow as tf\n",
        "\n",
        "from tensorflow.keras.layers import Input, Dense, Flatten, Dropout, Reshape, Concatenate,ZeroPadding2D\n",
        "from tensorflow.keras.layers import BatchNormalization, Activation, Conv2D, Conv2DTranspose,UpSampling2D\n",
        "from tensorflow.keras.layers import LeakyReLU\n",
        "from tensorflow.keras.models import Model\n",
        "from tensorflow.keras.models import Sequential\n",
        "from tensorflow.keras.optimizers import Adam\n",
        "from tensorflow.keras.initializers import RandomNormal\n",
        "from keras.datasets import cifar10\n",
        "import keras.backend as K\n",
        "from PIL import Image\n",
        "import matplotlib.pyplot as plt\n",
        "from tqdm.notebook import tqdm as tqdm\n",
        "from sklearn.utils import shuffle\n",
        "import sys\n",
        "import os\n",
        "import numpy as np\n",
        "import random\n",
        "from numpy.random import randint,randn,choice,rand\n",
        "from numpy import ones,zeros,vstack\n",
        "import pandas as pd\n",
        "import cv2\n",
        "from keras.preprocessing.image import ImageDataGenerator\n"
      ],
      "execution_count": 2,
      "outputs": [
        {
          "output_type": "stream",
          "text": [
            "Using TensorFlow backend.\n"
          ],
          "name": "stderr"
        }
      ]
    },
    {
      "cell_type": "code",
      "metadata": {
        "id": "g3rLJFbdVZ8J",
        "colab_type": "code",
        "colab": {}
      },
      "source": [
        "def dataset_statistics():\n",
        "  path, dirs, files = next(os.walk(\"/content/drive/My Drive/CovidxDatasetSplit/test/normal\"))\n",
        "  test_normal_count = len(files)\n",
        "  path, dirs, files = next(os.walk(\"/content/drive/My Drive/CovidxDatasetSplit/test/covid19\"))\n",
        "  test_covid19_count = len(files)\n",
        "  path, dirs, files = next(os.walk(\"/content/drive/My Drive/CovidxDatasetSplit/test/CT_COVID\"))\n",
        "  test_CT_count = len(files)\n",
        "  path, dirs, files = next(os.walk(\"/content/drive/My Drive/CovidxDatasetSplit/test/pneumonia\"))\n",
        "  test_pneumonia_count = len(files)\n",
        "\n",
        "  path, dirs, files = next(os.walk(\"/content/drive/My Drive/CovidxDatasetSplit/train/normal\"))\n",
        "  train_normal_count = len(files)\n",
        "  path, dirs, files = next(os.walk(\"/content/drive/My Drive/CovidxDatasetSplit/train/covid19\"))\n",
        "  train_covid19_count = len(files)\n",
        "  path, dirs, files = next(os.walk(\"/content/drive/My Drive/CovidxDatasetSplit/train/CT_COVID\"))\n",
        "  train_CT_count = len(files)\n",
        "  path, dirs, files = next(os.walk(\"/content/drive/My Drive/CovidxDatasetSplit/train/pneumonia\"))\n",
        "  train_pneumonia_count = len(files)\n",
        "\n",
        "  normal=test_normal_count+train_normal_count\n",
        "  covid19=test_covid19_count+train_covid19_count\n",
        "  CT=test_CT_count+train_CT_count\n",
        "  pneumonia=test_pneumonia_count+train_pneumonia_count\n",
        "\n",
        "  test_normal=test_normal_count*100/normal\n",
        "  train_normal=train_normal_count*100/normal\n",
        "\n",
        "  test_covid19=test_covid19_count*100/covid19\n",
        "  train_covid19=train_covid19_count*100/covid19\n",
        "\n",
        "  test_CT=test_CT_count*100/CT\n",
        "  train_CT=train_CT_count*100/CT\n",
        "\n",
        "  test_pneumonia=test_pneumonia_count*100/pneumonia\n",
        "  train_pneumonia=train_pneumonia_count*100/pneumonia\n",
        "\n",
        "  print(\"TEST DATASET__________TRAIN DATASET\")\n",
        "  print(\"normal =\",test_normal_count,\"          normal =\",train_normal_count)\n",
        "  print(\"covid19 =\",test_covid19_count,\"          covid19 =\",train_covid19_count)\n",
        "  print(\"CT =\",test_CT_count,\"               CT =\",train_CT_count)\n",
        "  print(\"pneumonia =\",test_pneumonia_count,\"       pneumonia =\",train_pneumonia_count)\n",
        "  print(\"covid19+CT =\",test_CT_count+test_covid19_count,\"       covid19+CT =\",train_CT_count+train_covid19_count)\n",
        "  print('\\n')\n",
        "  print(\"TEST DATASET__________TRAIN DATASET\")\n",
        "  print(\"normal =\",test_normal,\"          normal =\",train_normal)\n",
        "  print(\"covid19 =\",test_covid19,\"          covid19 =\",train_covid19)\n",
        "  print(\"CT =\",test_CT,\"               CT =\",train_CT)\n",
        "  print(\"pneumonia =\",test_pneumonia,\"       pneumonia =\",train_pneumonia)"
      ],
      "execution_count": 0,
      "outputs": []
    },
    {
      "cell_type": "code",
      "metadata": {
        "id": "AcwbVQkHY9lN",
        "colab_type": "code",
        "outputId": "1caf590b-d8d9-4a7f-9b00-39f9e5c66d90",
        "colab": {
          "base_uri": "https://localhost:8080/",
          "height": 254
        }
      },
      "source": [
        "dataset_statistics()"
      ],
      "execution_count": 4,
      "outputs": [
        {
          "output_type": "stream",
          "text": [
            "TEST DATASET__________TRAIN DATASET\n",
            "normal = 885           normal = 7983\n",
            "covid19 = 30           covid19 = 237\n",
            "CT = 34                CT = 315\n",
            "pneumonia = 594        pneumonia = 5451\n",
            "covid19+CT = 64        covid19+CT = 552\n",
            "\n",
            "\n",
            "TEST DATASET__________TRAIN DATASET\n",
            "normal = 9.979702300405954           normal = 90.02029769959404\n",
            "covid19 = 11.235955056179776           covid19 = 88.76404494382022\n",
            "CT = 9.742120343839542                CT = 90.25787965616045\n",
            "pneumonia = 9.826302729528535        pneumonia = 90.17369727047146\n"
          ],
          "name": "stdout"
        }
      ]
    },
    {
      "cell_type": "code",
      "metadata": {
        "id": "Eq75CvITec_3",
        "colab_type": "code",
        "colab": {}
      },
      "source": [
        "DATA_PATH = '/content/drive/My Drive/NumpyArrayCovidx'\n",
        "#BUFFER_SIZE=6000\n",
        "\n",
        "SEED_SIZE=100\n",
        "PREVIEW_ROWS = 4\n",
        "PREVIEW_COLS = 7\n",
        "PREVIEW_MARGIN = 16\n",
        "GENERATE_SQUARE =128\n",
        "CHANNELS=1\n",
        "BATCH_SIZE=32\n",
        "EPOCHS=30000\n",
        "\n",
        "\n",
        "IMAGE_SHAPE=(GENERATE_SQUARE,GENERATE_SQUARE,CHANNELS)\n"
      ],
      "execution_count": 0,
      "outputs": []
    },
    {
      "cell_type": "code",
      "metadata": {
        "id": "sx8eWfEVeilS",
        "colab_type": "code",
        "colab": {}
      },
      "source": [
        "def load_data():\n",
        "  training_binary_path_covid_images = os.path.join(DATA_PATH,\n",
        "          f'covid19_images.npy')\n",
        "  print(\"Loading covid training pickle...\")\n",
        "  covid19_images = np.load(training_binary_path_covid_images,allow_pickle=True)\n",
        "  for i in range(len(covid19_images)):\n",
        "    covid19_images[i] = cv2.cvtColor(covid19_images[i], cv2.COLOR_BGR2RGB)\n",
        "    covid19_images[i] = cv2.resize(covid19_images[i], (GENERATE_SQUARE, GENERATE_SQUARE))\n",
        "  training_data=[]\n",
        "  for item in covid19_images:\n",
        "    if(CHANNELS==1):\n",
        "      item = np.mean(item, axis=2)\n",
        "    training_data.append(item)\n",
        "\n",
        "  train_data = np.array(training_data)\n",
        "  train_data = (train_data - 127.5) / 127.5\n",
        "  return train_data"
      ],
      "execution_count": 0,
      "outputs": []
    },
    {
      "cell_type": "code",
      "metadata": {
        "id": "tHvlVyzlCqqV",
        "colab_type": "code",
        "colab": {
          "base_uri": "https://localhost:8080/",
          "height": 35
        },
        "outputId": "47231e50-e6b2-4474-8385-b6cc493fa053"
      },
      "source": [
        "covid19=load_data()"
      ],
      "execution_count": 7,
      "outputs": [
        {
          "output_type": "stream",
          "text": [
            "Loading covid training pickle...\n"
          ],
          "name": "stdout"
        }
      ]
    },
    {
      "cell_type": "code",
      "metadata": {
        "id": "Ufh9UW_abW7z",
        "colab_type": "code",
        "colab": {
          "base_uri": "https://localhost:8080/",
          "height": 286
        },
        "outputId": "daff7719-1c75-4486-89e3-6f126feb4ebf"
      },
      "source": [
        "plt.figure()\n",
        "plt.imshow(covid19[9],cmap=plt.cm.binary)"
      ],
      "execution_count": 8,
      "outputs": [
        {
          "output_type": "execute_result",
          "data": {
            "text/plain": [
              "<matplotlib.image.AxesImage at 0x7f2cf37e1b70>"
            ]
          },
          "metadata": {
            "tags": []
          },
          "execution_count": 8
        },
        {
          "output_type": "display_data",
          "data": {
            "image/png": "[encoded data removed]",
            "text/plain": [
              "<Figure size 432x288 with 1 Axes>"
            ]
          },
          "metadata": {
            "tags": [],
            "needs_background": "light"
          }
        }
      ]
    },
    {
      "cell_type": "code",
      "metadata": {
        "id": "OjOzyF8CC268",
        "colab_type": "code",
        "colab": {
          "base_uri": "https://localhost:8080/",
          "height": 35
        },
        "outputId": "d3921f02-fe2c-4663-f70b-d48c2a72723d"
      },
      "source": [
        "if(CHANNELS==1):\n",
        "  covid19 = np.expand_dims(covid19, axis=3)\n",
        "covid19.shape"
      ],
      "execution_count": 9,
      "outputs": [
        {
          "output_type": "execute_result",
          "data": {
            "text/plain": [
              "(237, 128, 128, 1)"
            ]
          },
          "metadata": {
            "tags": []
          },
          "execution_count": 9
        }
      ]
    },
    {
      "cell_type": "code",
      "metadata": {
        "id": "Kdz9Nsa0DVPw",
        "colab_type": "code",
        "colab": {}
      },
      "source": [
        "def get_generator():\n",
        "  model = Sequential()\n",
        "  init = RandomNormal(mean=0.0, stddev=0.02)\n",
        "  model.add(Dense(256 * 4 * 4, activation='relu',input_dim=SEED_SIZE,kernel_initializer=init))\n",
        "  model.add(BatchNormalization(momentum=0.9))\n",
        "  model.add(LeakyReLU(alpha=0.1))\n",
        "  model.add(Reshape((4, 4, 256))) #(4,4)\n",
        "  #1\n",
        "  model.add(Conv2DTranspose(128, 4, strides=2, padding='same',kernel_initializer=init))#(8,8)\n",
        "  model.add(BatchNormalization(momentum=0.9))\n",
        "  model.add(LeakyReLU(alpha=0.1))\n",
        "  #2\n",
        "  model.add(Conv2DTranspose(128, 4, strides=2, padding='same',kernel_initializer=init))#(16,16)\n",
        "  model.add(BatchNormalization(momentum=0.9))\n",
        "  model.add(LeakyReLU(alpha=0.1))\n",
        "  #3\n",
        "  model.add(Conv2DTranspose(64, 4, strides=2, padding='same',kernel_initializer=init))#(32,32)\n",
        "  model.add(BatchNormalization(momentum=0.9))\n",
        "  model.add(LeakyReLU(alpha=0.1))\n",
        "  #4\n",
        "  model.add(Conv2DTranspose(32, 4, strides=2, padding='same',kernel_initializer=init))#(64,64)\n",
        "  model.add(BatchNormalization(momentum=0.9))\n",
        "  model.add(LeakyReLU(alpha=0.1))\n",
        "\n",
        "  model.add(Conv2DTranspose(1, 4, strides=2, padding='same',kernel_initializer=init))#(128,128)\n",
        "  \n",
        "  model.add(Activation(\"tanh\"))\n",
        "  return model"
      ],
      "execution_count": 0,
      "outputs": []
    },
    {
      "cell_type": "code",
      "metadata": {
        "id": "xYzhmCshDbPL",
        "colab_type": "code",
        "colab": {
          "base_uri": "https://localhost:8080/",
          "height": 817
        },
        "outputId": "813c1577-6be5-4568-f466-cbea6cd81397"
      },
      "source": [
        "generator=get_generator()\n",
        "generator.summary()"
      ],
      "execution_count": 11,
      "outputs": [
        {
          "output_type": "stream",
          "text": [
            "Model: \"sequential\"\n",
            "_________________________________________________________________\n",
            "Layer (type)                 Output Shape              Param #   \n",
            "=================================================================\n",
            "dense (Dense)                (None, 4096)              413696    \n",
            "_________________________________________________________________\n",
            "batch_normalization (BatchNo (None, 4096)              16384     \n",
            "_________________________________________________________________\n",
            "leaky_re_lu (LeakyReLU)      (None, 4096)              0         \n",
            "_________________________________________________________________\n",
            "reshape (Reshape)            (None, 4, 4, 256)         0         \n",
            "_________________________________________________________________\n",
            "conv2d_transpose (Conv2DTran (None, 8, 8, 128)         524416    \n",
            "_________________________________________________________________\n",
            "batch_normalization_1 (Batch (None, 8, 8, 128)         512       \n",
            "_________________________________________________________________\n",
            "leaky_re_lu_1 (LeakyReLU)    (None, 8, 8, 128)         0         \n",
            "_________________________________________________________________\n",
            "conv2d_transpose_1 (Conv2DTr (None, 16, 16, 128)       262272    \n",
            "_________________________________________________________________\n",
            "batch_normalization_2 (Batch (None, 16, 16, 128)       512       \n",
            "_________________________________________________________________\n",
            "leaky_re_lu_2 (LeakyReLU)    (None, 16, 16, 128)       0         \n",
            "_________________________________________________________________\n",
            "conv2d_transpose_2 (Conv2DTr (None, 32, 32, 64)        131136    \n",
            "_________________________________________________________________\n",
            "batch_normalization_3 (Batch (None, 32, 32, 64)        256       \n",
            "_________________________________________________________________\n",
            "leaky_re_lu_3 (LeakyReLU)    (None, 32, 32, 64)        0         \n",
            "_________________________________________________________________\n",
            "conv2d_transpose_3 (Conv2DTr (None, 64, 64, 32)        32800     \n",
            "_________________________________________________________________\n",
            "batch_normalization_4 (Batch (None, 64, 64, 32)        128       \n",
            "_________________________________________________________________\n",
            "leaky_re_lu_4 (LeakyReLU)    (None, 64, 64, 32)        0         \n",
            "_________________________________________________________________\n",
            "conv2d_transpose_4 (Conv2DTr (None, 128, 128, 1)       513       \n",
            "_________________________________________________________________\n",
            "activation (Activation)      (None, 128, 128, 1)       0         \n",
            "=================================================================\n",
            "Total params: 1,382,625\n",
            "Trainable params: 1,373,729\n",
            "Non-trainable params: 8,896\n",
            "_________________________________________________________________\n"
          ],
          "name": "stdout"
        }
      ]
    },
    {
      "cell_type": "code",
      "metadata": {
        "id": "nD9w0otWDg48",
        "colab_type": "code",
        "colab": {}
      },
      "source": [
        "#shape_input=(128,128,1)\n",
        "\n",
        "def get_discriminator():\n",
        "  model = Sequential()\n",
        "  init = RandomNormal(mean=0.0, stddev=0.02)\n",
        "  #1\n",
        "  model.add(Conv2D(32, kernel_size=(4,4), strides=1, padding='same',input_shape=IMAGE_SHAPE,kernel_initializer=init))#(128,128)\n",
        "  model.add(LeakyReLU(alpha=0.1))\n",
        "  model.add(Dropout(0.25))\n",
        "  #2\n",
        "  model.add(Conv2D(64, kernel_size=(4,4), strides=2, padding='same',kernel_initializer=init))#(64,64)\n",
        "  model.add(ZeroPadding2D(padding=((0,1),(0,1))))\n",
        "  model.add(BatchNormalization(momentum=0.9))\n",
        "  model.add(LeakyReLU(alpha=0.1))\n",
        "  model.add(Dropout(0.25))\n",
        "  #3\n",
        "  model.add(Conv2D(128, kernel_size=(4,4), strides=2, padding='same',kernel_initializer=init))#(32,32)\n",
        "  model.add(BatchNormalization(momentum=0.9))\n",
        "  model.add(LeakyReLU(alpha=0.1))\n",
        "  model.add(Dropout(0.25))\n",
        "  #4\n",
        "  model.add(Conv2D(128, kernel_size=(4,4), strides=2, padding='same',kernel_initializer=init))#(16,16)\n",
        "  model.add(BatchNormalization(momentum=0.9))\n",
        "  model.add(LeakyReLU(alpha=0.1))\n",
        "  model.add(Dropout(0.25))\n",
        "\n",
        "  model.add(Conv2D(256, kernel_size=(4,4), strides=2, padding='same',kernel_initializer=init))#(8,8)\n",
        "  model.add(BatchNormalization(momentum=0.9))\n",
        "  model.add(LeakyReLU(alpha=0.1))\n",
        "  model.add(Dropout(0.25))\n",
        "\n",
        "  model.add(Flatten())\n",
        "\n",
        "  model.add(Dense(256*4*4, activation='relu'))\n",
        "  model.add(Dense(1,activation='sigmoid'))\n",
        "    \n",
        "  model.compile(loss=tf.keras.losses.BinaryCrossentropy(), optimizer=tf.keras.optimizers.Adam(0.0002, 0.5),metrics=['accuracy'])\n",
        "  return model"
      ],
      "execution_count": 0,
      "outputs": []
    },
    {
      "cell_type": "code",
      "metadata": {
        "id": "hRgZjg8mTipD",
        "colab_type": "code",
        "colab": {
          "base_uri": "https://localhost:8080/",
          "height": 999
        },
        "outputId": "a894f697-6cb9-4c65-de04-b0bf91eaeb0a"
      },
      "source": [
        "discriminator= get_discriminator()\n",
        "discriminator.summary()"
      ],
      "execution_count": 13,
      "outputs": [
        {
          "output_type": "stream",
          "text": [
            "Model: \"sequential_1\"\n",
            "_________________________________________________________________\n",
            "Layer (type)                 Output Shape              Param #   \n",
            "=================================================================\n",
            "conv2d (Conv2D)              (None, 128, 128, 32)      544       \n",
            "_________________________________________________________________\n",
            "leaky_re_lu_5 (LeakyReLU)    (None, 128, 128, 32)      0         \n",
            "_________________________________________________________________\n",
            "dropout (Dropout)            (None, 128, 128, 32)      0         \n",
            "_________________________________________________________________\n",
            "conv2d_1 (Conv2D)            (None, 64, 64, 64)        32832     \n",
            "_________________________________________________________________\n",
            "zero_padding2d (ZeroPadding2 (None, 65, 65, 64)        0         \n",
            "_________________________________________________________________\n",
            "batch_normalization_5 (Batch (None, 65, 65, 64)        256       \n",
            "_________________________________________________________________\n",
            "leaky_re_lu_6 (LeakyReLU)    (None, 65, 65, 64)        0         \n",
            "_________________________________________________________________\n",
            "dropout_1 (Dropout)          (None, 65, 65, 64)        0         \n",
            "_________________________________________________________________\n",
            "conv2d_2 (Conv2D)            (None, 33, 33, 128)       131200    \n",
            "_________________________________________________________________\n",
            "batch_normalization_6 (Batch (None, 33, 33, 128)       512       \n",
            "_________________________________________________________________\n",
            "leaky_re_lu_7 (LeakyReLU)    (None, 33, 33, 128)       0         \n",
            "_________________________________________________________________\n",
            "dropout_2 (Dropout)          (None, 33, 33, 128)       0         \n",
            "_________________________________________________________________\n",
            "conv2d_3 (Conv2D)            (None, 17, 17, 128)       262272    \n",
            "_________________________________________________________________\n",
            "batch_normalization_7 (Batch (None, 17, 17, 128)       512       \n",
            "_________________________________________________________________\n",
            "leaky_re_lu_8 (LeakyReLU)    (None, 17, 17, 128)       0         \n",
            "_________________________________________________________________\n",
            "dropout_3 (Dropout)          (None, 17, 17, 128)       0         \n",
            "_________________________________________________________________\n",
            "conv2d_4 (Conv2D)            (None, 9, 9, 256)         524544    \n",
            "_________________________________________________________________\n",
            "batch_normalization_8 (Batch (None, 9, 9, 256)         1024      \n",
            "_________________________________________________________________\n",
            "leaky_re_lu_9 (LeakyReLU)    (None, 9, 9, 256)         0         \n",
            "_________________________________________________________________\n",
            "dropout_4 (Dropout)          (None, 9, 9, 256)         0         \n",
            "_________________________________________________________________\n",
            "flatten (Flatten)            (None, 20736)             0         \n",
            "_________________________________________________________________\n",
            "dense_1 (Dense)              (None, 4096)              84938752  \n",
            "_________________________________________________________________\n",
            "dense_2 (Dense)              (None, 1)                 4097      \n",
            "=================================================================\n",
            "Total params: 85,896,545\n",
            "Trainable params: 85,895,393\n",
            "Non-trainable params: 1,152\n",
            "_________________________________________________________________\n"
          ],
          "name": "stdout"
        }
      ]
    },
    {
      "cell_type": "code",
      "metadata": {
        "id": "hKFEIhhjDh6x",
        "colab_type": "code",
        "colab": {}
      },
      "source": [
        "def create_gan(discriminator, generator):\n",
        "    discriminator.trainable=False\n",
        "    gan_input = Input(shape=(SEED_SIZE,))\n",
        "    x = generator(gan_input)\n",
        "    gan_output= discriminator(x)\n",
        "    gan= Model(inputs=gan_input, outputs=gan_output)\n",
        "    gan.compile(loss=tf.keras.losses.BinaryCrossentropy(), optimizer='adam')\n",
        "    return gan"
      ],
      "execution_count": 0,
      "outputs": []
    },
    {
      "cell_type": "code",
      "metadata": {
        "id": "yZZQFd1vDl6D",
        "colab_type": "code",
        "colab": {}
      },
      "source": [
        "gan = create_gan(discriminator, generator)"
      ],
      "execution_count": 0,
      "outputs": []
    },
    {
      "cell_type": "code",
      "metadata": {
        "id": "58gaN_kODp1z",
        "colab_type": "code",
        "colab": {}
      },
      "source": [
        "def save_images(cnt,noise):\n",
        "  image_array = np.full(( \n",
        "      PREVIEW_MARGIN + (PREVIEW_ROWS * (GENERATE_SQUARE+PREVIEW_MARGIN)), \n",
        "      PREVIEW_MARGIN + (PREVIEW_COLS * (GENERATE_SQUARE+PREVIEW_MARGIN)), 3), \n",
        "      255, dtype=np.uint8)\n",
        "  \n",
        "  generated_images = generator.predict(noise)\n",
        "  generated_images = 0.5 * generated_images + 0.5\n",
        "\n",
        "  image_count = 0\n",
        "  for row in range(PREVIEW_ROWS):\n",
        "      for col in range(PREVIEW_COLS):\n",
        "        r = row * (GENERATE_SQUARE+16) + PREVIEW_MARGIN\n",
        "        c = col * (GENERATE_SQUARE+16) + PREVIEW_MARGIN\n",
        "        image_array[r:r+GENERATE_SQUARE,c:c+GENERATE_SQUARE] = generated_images[image_count] *255\n",
        "        image_count += 1\n",
        "\n",
        "          \n",
        "  output_path = os.path.join(DATA_PATH,'Covid19GAN')\n",
        "  if not os.path.exists(output_path):\n",
        "    os.makedirs(output_path)\n",
        "  \n",
        "  filename = os.path.join(output_path,f\"train-{cnt}.png\")\n",
        "  im = Image.fromarray(image_array)\n",
        "  im.save(filename)"
      ],
      "execution_count": 0,
      "outputs": []
    },
    {
      "cell_type": "code",
      "metadata": {
        "id": "Puh2Rr8dDwSo",
        "colab_type": "code",
        "colab": {}
      },
      "source": [
        "def noisy_labels(y, p_flip):\n",
        "  n_select = int(p_flip * y.shape[0])\n",
        "  flip_ix = choice([i for i in range(y.shape[0])], size=n_select)\n",
        "  y[flip_ix] = 1 - y[flip_ix]\n",
        "  return y\n",
        "\n",
        "# [0.7, 1.2]\n",
        "def smooth_positive_labels(y):\n",
        "  k = y - 0.3 + np.random.uniform(low=0.0, high=1.0, size=(y.shape)) * 0.5\n",
        "  return k\n",
        "\n",
        "#[0.0, 0.3]\n",
        "def smooth_negative_labels(y):\n",
        "  k = y + np.random.uniform(low=0.0, high=1.0, size=(y.shape)) * 0.3\n",
        "  return k\n",
        "\n",
        "def generate_real_samples(dataset, n_samples):\n",
        "  ix = randint(0, dataset.shape[0], n_samples)\n",
        "  X = dataset[ix]\n",
        "  y = ones((n_samples, 1))\n",
        "  y = noisy_labels(y, 0.05)\n",
        "  y = smooth_positive_labels(y)\n",
        "  return X, y\n",
        "\n",
        "def generate_latent_points(latent_dim, n_samples):\n",
        "\tx_input = randn(latent_dim * n_samples)\n",
        "\tx_input = x_input.reshape(n_samples, latent_dim)\n",
        "\treturn x_input\n",
        "\n",
        "def generate_fake_samples(g_model, latent_dim, n_samples):\n",
        "  x_input = generate_latent_points(latent_dim, n_samples)\n",
        "  X = g_model.predict(x_input)\n",
        "  y = zeros((n_samples, 1))\n",
        "  y = noisy_labels(y, 0.05)\n",
        "  y=smooth_negative_labels(y)\n",
        "  return X, y\n",
        "\n",
        "def save(gan, generator, discriminator,epoch):\n",
        "    discriminator.trainable = False\n",
        "    gan.save(f\"drive/My Drive/saved_models/Covid19GAN/gan-{epoch}.h5\")\n",
        "    print(f\"GAN {epoch} SAVED\")\n",
        "    discriminator.trainable = True\n",
        "    generator.save(f\"drive/My Drive/saved_models/Covid19GAN/generator-{epoch}.h5\")\n",
        "    print(f\"Generator {epoch} SAVED\")\n",
        "    discriminator.save(f\"drive/My Drive/saved_models/Covid19GAN/discriminator-{epoch}.h5\")\n",
        "    print(f\"Discriminator {epoch} SAVED\")\n",
        "\n",
        "\n",
        "def train(dataset,latent_dim,g_model=generator, d_model=discriminator, gan_model=gan, n_epochs=EPOCHS , n_batch=BATCH_SIZE):\n",
        "  bat_per_epo = int(dataset.shape[0] / n_batch)\n",
        "  half_batch = int(n_batch / 2)\n",
        "  for i in range(1,n_epochs+1):\n",
        "    print(\"Epochs:\",i)\n",
        "    gan_loss_list = []\n",
        "    disc_loss_list = []\n",
        "    for j in (range(bat_per_epo)):\n",
        "      X_real, y_real = generate_real_samples(dataset, half_batch)\n",
        "      X_fake, y_fake = generate_fake_samples(g_model, latent_dim, half_batch)\n",
        "      X, y = vstack((X_real, X_fake)), vstack((y_real, y_fake))\n",
        "      d_model.trainable=True\n",
        "      d_loss, _ = d_model.train_on_batch(X, y)\n",
        "      d_model.trainable=False\n",
        "      X_gan = generate_latent_points(latent_dim, n_batch)\n",
        "      y_gan = ones((n_batch, 1))\n",
        "      #Train Twice to reduce loss\n",
        "      g_loss = gan_model.train_on_batch(X_gan, y_gan)\n",
        "      g_loss = gan_model.train_on_batch(X_gan, y_gan)\n",
        "      #print('>%d, d=%.3f, g=%.3f' % (i+1, d_loss, g_loss))\n",
        "      disc_loss_list.append(d_loss)\n",
        "      gan_loss_list.append(g_loss)\n",
        "    dloss=sum(disc_loss_list) / len(disc_loss_list)\n",
        "    ganloss=sum(gan_loss_list) / len(gan_loss_list)\n",
        "    print('discr loss = ',dloss,'gan loss = ',ganloss)\n",
        "    if(i%50==0):\n",
        "      save_images(i,X_gan)\n",
        "    if(i%10000==0):\n",
        "      save(gan_model,g_model,d_model,i)"
      ],
      "execution_count": 0,
      "outputs": []
    },
    {
      "cell_type": "code",
      "metadata": {
        "id": "zp2bI2brD0zP",
        "colab_type": "code",
        "colab": {
          "base_uri": "https://localhost:8080/",
          "height": 1000
        },
        "outputId": "9db4cc3f-5fb7-4f29-e392-dfac67b3faba"
      },
      "source": [
        "train(covid19,SEED_SIZE)"
      ],
      "execution_count": 0,
      "outputs": [
        {
          "output_type": "stream",
          "text": [
            "Epochs: 1\n",
            "discr loss =  1.6056713121277946 gan loss =  2.0348565578460693\n",
            "Epochs: 2\n",
            "discr loss =  0.7278528809547424 gan loss =  2.057883858680725\n",
            "Epochs: 3\n",
            "discr loss =  0.43286084277289255 gan loss =  1.7424039329801286\n",
            "Epochs: 4\n",
            "discr loss =  0.43729744638715473 gan loss =  1.7563817160470145\n",
            "Epochs: 5\n",
            "discr loss =  0.589200884103775 gan loss =  1.4777474062783378\n",
            "Epochs: 6\n",
            "discr loss =  0.37783789208957125 gan loss =  0.49419533780642916\n",
            "Epochs: 7\n",
            "discr loss =  0.5906545945576259 gan loss =  0.34259175828524996\n",
            "Epochs: 8\n",
            "discr loss =  0.40852012378828867 gan loss =  0.1080531392778669\n",
            "Epochs: 9\n",
            "discr loss =  0.3608426238809313 gan loss =  0.16230478350605285\n",
            "Epochs: 10\n",
            "discr loss =  0.35918527841567993 gan loss =  0.26128522625991274\n",
            "Epochs: 11\n",
            "discr loss =  0.32629996857472826 gan loss =  0.2472825050354004\n",
            "Epochs: 12\n",
            "discr loss =  0.38758369854518343 gan loss =  0.15438859058277948\n",
            "Epochs: 13\n",
            "discr loss =  0.34765484077589853 gan loss =  0.4898270240851811\n",
            "Epochs: 14\n",
            "discr loss =  0.37419561403138296 gan loss =  1.764612224219101\n",
            "Epochs: 15\n",
            "discr loss =  0.4036343991756439 gan loss =  1.9885533537183488\n",
            "Epochs: 16\n",
            "discr loss =  0.45396327120917185 gan loss =  0.8107872906007937\n",
            "Epochs: 17\n",
            "discr loss =  0.38212218029158457 gan loss =  0.2689456141420773\n",
            "Epochs: 18\n",
            "discr loss =  0.43865591287612915 gan loss =  1.161899643284934\n",
            "Epochs: 19\n",
            "discr loss =  0.32826208642550875 gan loss =  0.9066775781767709\n",
            "Epochs: 20\n",
            "discr loss =  0.39396325605256216 gan loss =  0.9583898399557386\n",
            "Epochs: 21\n",
            "discr loss =  0.4036639354058674 gan loss =  0.4232569273029055\n",
            "Epochs: 22\n",
            "discr loss =  0.34510867084775654 gan loss =  0.23994274863174983\n",
            "Epochs: 23\n",
            "discr loss =  0.33483619349343435 gan loss =  0.1810291154044015\n",
            "Epochs: 24\n",
            "discr loss =  0.3179851770401001 gan loss =  0.7384355025632041\n",
            "Epochs: 25\n",
            "discr loss =  0.34463584423065186 gan loss =  1.4421256610325404\n",
            "Epochs: 26\n",
            "discr loss =  0.3447322036538805 gan loss =  2.1758887597492764\n",
            "Epochs: 27\n",
            "discr loss =  0.40401446393557955 gan loss =  2.138236539704459\n",
            "Epochs: 28\n",
            "discr loss =  0.4222716731684549 gan loss =  1.7883317725999015\n",
            "Epochs: 29\n",
            "discr loss =  0.41949634041105 gan loss =  1.5460875545229231\n",
            "Epochs: 30\n",
            "discr loss =  0.41263048137937275 gan loss =  0.9377771701131549\n",
            "Epochs: 31\n",
            "discr loss =  0.5586575205836978 gan loss =  2.029740637966565\n",
            "Epochs: 32\n",
            "discr loss =  0.34308646406446186 gan loss =  0.7771003033433642\n",
            "Epochs: 33\n",
            "discr loss =  0.37612140604427885 gan loss =  0.5698466897010803\n",
            "Epochs: 34\n",
            "discr loss =  0.5339966416358948 gan loss =  0.7963143773376942\n",
            "Epochs: 35\n"
          ],
          "name": "stdout"
        }
      ]
    }
  ]
}